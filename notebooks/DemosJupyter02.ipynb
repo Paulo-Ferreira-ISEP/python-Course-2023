{
  "cells": [
    {
      "cell_type": "markdown",
      "metadata": {
        "collapsed": true,
        "slideshow": {
          "slide_type": "slide"
        }
      },
      "source": [
        "# Jupyter Notebooks  2/2  \n",
        "##  Jornadas Engenharia Biomédica 2023 \n",
        "### Paulo Ferreira pdf@isep.ipp.pt\n",
        "\n"
      ]
    },
    {
      "cell_type": "markdown",
      "metadata": {
        "slideshow": {
          "slide_type": "slide"
        }
      },
      "source": [
        "### Miscelaneous Stuff  \n",
        "\n",
        "* Magic commands \n",
        "* Useful Libraries  \t"
      ]
    },
    {
      "cell_type": "code",
      "execution_count": null,
      "metadata": {
        "slideshow": {
          "slide_type": "slide"
        },
        "trusted": true
      },
      "outputs": [],
      "source": [
        "%magic"
      ]
    },
    {
      "cell_type": "code",
      "execution_count": 1,
      "metadata": {
        "slideshow": {
          "slide_type": "slide"
        },
        "trusted": true
      },
      "outputs": [
        {
          "name": "stderr",
          "output_type": "stream",
          "text": [
            "16.13s - pydevd: Sending message related to process being replaced timed-out after 5 seconds\n"
          ]
        },
        {
          "name": "stdout",
          "output_type": "stream",
          "text": [
            "total 240\n",
            "-rw-rw-rw-  1 codespace root  3076 May 31 08:01 Course_Python00.ipynb\n",
            "-rw-rw-rw-  1 codespace root 17738 May 31 08:01 Course_Python01.ipynb\n",
            "-rw-rw-rw-  1 codespace root 76309 May 31 08:01 Course_Python02.ipynb\n",
            "-rw-rw-rw-  1 codespace root 45903 May 31 08:01 Course_Python03.ipynb\n",
            "-rw-rw-rw-  1 codespace root 11613 May 31 08:01 DemosJupyter01.ipynb\n",
            "-rw-rw-rw-  1 codespace root 20891 May 31 08:13 DemosJupyter02.ipynb\n",
            "-rw-rw-rw-  1 codespace root  3691 May 31 08:01 Exercises01.ipynb\n",
            "-rw-rw-rw-  1 codespace root  8203 May 31 08:01 Exercises02.ipynb\n",
            "-rw-rw-rw-  1 codespace root    99 May 31 08:01 README.md\n",
            "-rw-rw-rw-  1 codespace root  8816 May 31 08:01 fich01.xlsx\n",
            "-rw-rw-rw-  1 codespace root    30 May 31 08:01 file001.csv\n",
            "-rw-rw-rw-  1 codespace root    22 May 31 08:01 file002.csv\n",
            "drwxrwxrwx+ 2 codespace root  4096 May 31 08:01 \u001b[0m\u001b[34;42mimages\u001b[0m/\n",
            "-rw-rw-rw-  1 codespace root   444 May 31 08:01 mymodule.py\n",
            "-rw-rw-rw-  1 codespace root    87 May 31 08:01 text001.txt\n",
            "-rw-rw-rw-  1 codespace root    77 May 31 08:01 textfile.txt\n"
          ]
        }
      ],
      "source": [
        "%ls -l "
      ]
    },
    {
      "cell_type": "markdown",
      "metadata": {
        "slideshow": {
          "slide_type": "slide"
        }
      },
      "source": [
        "### nbgrader \n",
        "\n",
        "A Jupyter extension to grade student's work :\n",
        "\n",
        "* Code & Manual grading \n",
        "\n",
        "* [https://github.com/jupyter/nbgrader](https://github.com/jupyter/nbgrader)\n",
        "* [https://nbgrader.readthedocs.io/en/stable/](https://nbgrader.readthedocs.io/en/stable/)\n",
        "* [YouTube Video 24 min](https://www.youtube.com/watch?v=5WUm0QuJdFw)\n",
        "\n"
      ]
    },
    {
      "cell_type": "markdown",
      "metadata": {
        "slideshow": {
          "slide_type": "slide"
        }
      },
      "source": [
        "### Matplotlib \n",
        "\n",
        "* A 2D Plotting library for publication quality figures\n",
        "* [https://matplotlib.org](https://matplotlib.org)\n",
        "* Examples taken from the official site"
      ]
    },
    {
      "cell_type": "code",
      "execution_count": null,
      "metadata": {
        "slideshow": {
          "slide_type": "slide"
        },
        "trusted": true
      },
      "outputs": [],
      "source": [
        "# start with the magic command!  \n",
        "%matplotlib inline \n",
        "import matplotlib\n",
        "import numpy as np\n",
        "import matplotlib.pyplot as plt\n",
        " \n",
        "x = np.linspace(0, 3*np.pi, 500)\n",
        "plt.plot(x, np.sin(x**2))\n",
        "plt.title('A simple chirp')\n",
        "plt.show()"
      ]
    },
    {
      "cell_type": "code",
      "execution_count": null,
      "metadata": {
        "slideshow": {
          "slide_type": "slide"
        },
        "trusted": true
      },
      "outputs": [],
      "source": [
        "# start with the magic command!  \n",
        "%matplotlib inline\n",
        "import numpy as np\n",
        "import matplotlib.pyplot as plt\n",
        "\n",
        "# Data for plotting\n",
        "x1 = np.linspace(0.0, 5.0)\n",
        "x2 = np.linspace(0.0, 2.0)\n",
        "y1 = np.cos(2 * np.pi * x1) * np.exp(-x1)\n",
        "y2 = np.cos(2 * np.pi * x2)\n",
        "\n",
        "# Create two subplots sharing y axis\n",
        "fig, (ax1, ax2) = plt.subplots(2, sharey=True)\n",
        "\n",
        "ax1.plot(x1, y1, 'ko-')\n",
        "ax1.set(title='A tale of 2 subplots', ylabel='Damped oscillation')\n",
        "\n",
        "ax2.plot(x2, y2, 'r.-')\n",
        "ax2.set(xlabel='time (s)', ylabel='Undamped')\n",
        "\n",
        "plt.show()"
      ]
    },
    {
      "cell_type": "code",
      "execution_count": null,
      "metadata": {
        "slideshow": {
          "slide_type": "slide"
        },
        "trusted": true
      },
      "outputs": [],
      "source": [
        "%matplotlib inline \n",
        "import numpy as np\n",
        "import matplotlib.pyplot as plt\n",
        "from matplotlib.ticker import MaxNLocator\n",
        "from collections import namedtuple\n",
        "\n",
        "\n",
        "n_groups = 5\n",
        "\n",
        "means_men = (20, 35, 30, 35, 27)\n",
        "std_men = (2, 3, 4, 1, 2)\n",
        "\n",
        "means_women = (25, 32, 34, 20, 25)\n",
        "std_women = (3, 5, 2, 3, 3)\n",
        "\n",
        "fig, ax = plt.subplots()\n",
        "\n",
        "index = np.arange(n_groups)\n",
        "bar_width = 0.35\n",
        "\n",
        "opacity = 0.4\n",
        "error_config = {'ecolor': '0.3'}\n",
        "\n",
        "rects1 = ax.bar(index, means_men, bar_width,\n",
        "                alpha=opacity, color='b',\n",
        "                yerr=std_men, error_kw=error_config,\n",
        "                label='Men')\n",
        "\n",
        "rects2 = ax.bar(index + bar_width, means_women, bar_width,\n",
        "                alpha=opacity, color='r',\n",
        "                yerr=std_women, error_kw=error_config,\n",
        "                label='Women')\n",
        "\n",
        "ax.set_xlabel('Group')\n",
        "ax.set_ylabel('Scores')\n",
        "ax.set_title('Scores by group and gender')\n",
        "ax.set_xticks(index + bar_width / 2)\n",
        "ax.set_xticklabels(('A', 'B', 'C', 'D', 'E'))\n",
        "ax.legend()\n",
        "\n",
        "fig.tight_layout()\n",
        "plt.show()\n"
      ]
    },
    {
      "cell_type": "markdown",
      "metadata": {
        "slideshow": {
          "slide_type": "slide"
        },
        "trusted": true
      },
      "source": [
        "### Bokeh \n",
        "\n",
        "* A library for interactive Web Graphics \n",
        "* Bokeh *generates* all the required Javascript code \n",
        "* [https://bokeh.pydata.org/en/latest/](https://bokeh.pydata.org/en/latest/)\n",
        "* Examples taken from the official site"
      ]
    },
    {
      "cell_type": "code",
      "execution_count": null,
      "metadata": {
        "slideshow": {
          "slide_type": "slide"
        },
        "trusted": true
      },
      "outputs": [],
      "source": [
        "import numpy as np # we will use this later, so import it now\n",
        "\n",
        "from bokeh.io import output_notebook, show\n",
        "from bokeh.plotting import figure\n",
        "output_notebook()"
      ]
    },
    {
      "cell_type": "code",
      "execution_count": null,
      "metadata": {
        "trusted": true
      },
      "outputs": [],
      "source": [
        "# create a new plot with default tools, using figure\n",
        "p = figure(plot_width=400, plot_height=400)\n",
        "\n",
        "# add a circle renderer with x and y coordinates, size, color, and alpha\n",
        "p.circle([1, 2, 3, 4, 5], [6, 7, 2, 4, 5], size=15, line_color=\"navy\", fill_color=\"orange\", fill_alpha=0.5)\n",
        "\n",
        "show(p) # show the results"
      ]
    },
    {
      "cell_type": "code",
      "execution_count": null,
      "metadata": {
        "slideshow": {
          "slide_type": "slide"
        },
        "trusted": true
      },
      "outputs": [],
      "source": [
        "# create a new plot (with a title) using figure\n",
        "p = figure(plot_width=400, plot_height=400, title=\"My Line Plot\")\n",
        "\n",
        "# add a line renderer\n",
        "p.line([1, 2, 3, 4, 5], [6, 7, 2, 4, 5], line_width=2)\n",
        "\n",
        "show(p) # show the results"
      ]
    },
    {
      "cell_type": "code",
      "execution_count": null,
      "metadata": {
        "slideshow": {
          "slide_type": "slide"
        },
        "trusted": true
      },
      "outputs": [],
      "source": [
        "\n",
        "# Here is a list of categorical values (or factors)\n",
        "fruits = ['Apples', 'Pears', 'Nectarines', 'Plums', 'Grapes', 'Strawberries']\n",
        "\n",
        "# Set the x_range to the list of categories above\n",
        "p = figure(x_range=fruits, plot_height=250, title=\"Fruit Counts\")\n",
        "\n",
        "# Categorical values can also be used as coordinates\n",
        "p.vbar(x=fruits, top=[5, 3, 4, 2, 4, 6], width=0.9)\n",
        "\n",
        "# Set some properties to make the plot look better\n",
        "p.xgrid.grid_line_color = None\n",
        "p.y_range.start = 0\n",
        "\n",
        "show(p)"
      ]
    },
    {
      "cell_type": "code",
      "execution_count": null,
      "metadata": {
        "trusted": true
      },
      "outputs": [],
      "source": [
        "\n",
        "from bokeh.models import ColumnDataSource\n",
        "from bokeh.palettes import Spectral6\n",
        "\n",
        "fruits = ['Apples', 'Pears', 'Nectarines', 'Plums', 'Grapes', 'Strawberries']\n",
        "counts = [5, 3, 4, 2, 4, 6]\n",
        "\n",
        "source = ColumnDataSource(data=dict(fruits=fruits, counts=counts, color=Spectral6))\n",
        "\n",
        "p = figure(x_range=fruits, plot_height=250, y_range=(0, 9), title=\"Fruit Counts\")\n",
        "p.vbar(x='fruits', top='counts', width=0.9, color='color', legend=\"fruits\", source=source)\n",
        "\n",
        "p.xgrid.grid_line_color = None\n",
        "p.legend.orientation = \"horizontal\"\n",
        "p.legend.location = \"top_center\"\n",
        "\n",
        "show(p)"
      ]
    },
    {
      "cell_type": "code",
      "execution_count": null,
      "metadata": {
        "trusted": true
      },
      "outputs": [],
      "source": [
        "from bokeh.palettes import GnBu3, OrRd3\n",
        "\n",
        "years = ['2015', '2016', '2017']\n",
        "\n",
        "exports = {'fruits' : fruits,\n",
        "           '2015'   : [2, 1, 4, 3, 2, 4],\n",
        "           '2016'   : [5, 3, 4, 2, 4, 6],\n",
        "           '2017'   : [3, 2, 4, 4, 5, 3]}\n",
        "imports = {'fruits' : fruits,\n",
        "           '2015'   : [-1, 0, -1, -3, -2, -1],\n",
        "           '2016'   : [-2, -1, -3, -1, -2, -2],\n",
        "           '2017'   : [-1, -2, -1, 0, -2, -2]}\n",
        "\n",
        "p = figure(y_range=fruits, plot_height=250, x_range=(-16, 16), title=\"Fruit import/export, by year\")\n",
        "\n",
        "p.hbar_stack(years, y='fruits', height=0.9, color=GnBu3, source=ColumnDataSource(exports),\n",
        "             legend=[\"%s exports\" % x for x in years])\n",
        "\n",
        "p.hbar_stack(years, y='fruits', height=0.9, color=OrRd3, source=ColumnDataSource(imports),\n",
        "             legend=[\"%s imports\" % x for x in years])\n",
        "\n",
        "p.y_range.range_padding = 0.1\n",
        "p.ygrid.grid_line_color = None\n",
        "p.legend.location = \"center_left\"\n",
        "\n",
        "show(p)"
      ]
    },
    {
      "cell_type": "code",
      "execution_count": null,
      "metadata": {
        "slideshow": {
          "slide_type": "slide"
        },
        "trusted": true
      },
      "outputs": [],
      "source": [
        "from bokeh.models import HoverTool\n",
        "\n",
        "source = ColumnDataSource(\n",
        "        data=dict(\n",
        "            x=[1, 2, 3, 4, 5],\n",
        "            y=[2, 5, 8, 2, 7],\n",
        "            desc=['A', 'b', 'C', 'd', 'E'],\n",
        "        )\n",
        "    )\n",
        "\n",
        "hover = HoverTool(\n",
        "        tooltips=[\n",
        "            (\"index\", \"$index\"),\n",
        "            (\"(x,y)\", \"($x, $y)\"),\n",
        "            (\"desc\", \"@desc\"),\n",
        "        ]\n",
        "    )\n",
        "\n",
        "p = figure(plot_width=300, plot_height=300, tools=[hover], title=\"Mouse over the dots\")\n",
        "\n",
        "p.circle('x', 'y', size=20, source=source)\n",
        "\n",
        "show(p)"
      ]
    },
    {
      "cell_type": "code",
      "execution_count": null,
      "metadata": {
        "slideshow": {
          "slide_type": "slide"
        },
        "trusted": true
      },
      "outputs": [],
      "source": [
        "# interactor support \n",
        "\n",
        "from ipywidgets import interact\n",
        "import numpy as np\n",
        "\n",
        "from bokeh.io import push_notebook, show, output_notebook\n",
        "from bokeh.plotting import figure\n",
        "output_notebook()\n",
        "\n",
        "x = np.linspace(0, 2*np.pi, 2000)\n",
        "y = np.sin(x)\n",
        "\n",
        "p = figure(title=\"simple line example\", plot_height=300, plot_width=600, y_range=(-5,5),\n",
        "           background_fill_color='#efefef')\n",
        "r = p.line(x, y, color=\"#8888cc\", line_width=1.5, alpha=0.8)\n",
        "\n",
        "def update(f, w=1, A=1, phi=0):\n",
        "    if   f == \"sin\": func = np.sin\n",
        "    elif f == \"cos\": func = np.cos\n",
        "    r.data_source.data['y'] = A * func(w * x + phi)\n",
        "    push_notebook()"
      ]
    },
    {
      "cell_type": "code",
      "execution_count": null,
      "metadata": {
        "trusted": true
      },
      "outputs": [],
      "source": [
        "show(p, notebook_handle=True)\n",
        "interact(update, f=[\"sin\", \"cos\"], w=(0,50), A=(1,10), phi=(0, 20, 0.1))"
      ]
    },
    {
      "cell_type": "markdown",
      "metadata": {
        "slideshow": {
          "slide_type": "slide"
        },
        "trusted": true
      },
      "source": [
        "###  Requests\n",
        "\n",
        "* A library for http 1.1 \n",
        "\n",
        "[http://docs.python-requests.org](http://docs.python-requests.org)\n",
        "\n",
        "[https://2.python-requests.org/en/master/user/quickstart/](https://2.python-requests.org/en/master/user/quickstart/)\n",
        "    "
      ]
    },
    {
      "cell_type": "code",
      "execution_count": null,
      "metadata": {
        "trusted": true
      },
      "outputs": [],
      "source": [
        "from PIL import Image \n",
        "import matplotlib.pyplot as plt\n",
        "import requests\n",
        "# headers.common['x-api-key'] = \"DEMO-API-KEY\"\n",
        "r = requests.get('https://api.thecatapi.com/v1/images/search',headers={'x-api-key':\"DEMO-API-KEY\"})\n",
        "print(r.status_code)\n",
        "print(r.headers['content-type']) \n",
        "print(r.json())                  \n",
        "url=r.json()[0]['url']\n",
        "print(url)\n",
        "#Image(url)\n",
        "\n",
        "response = requests.get(url, stream=True)\n",
        "img = Image.open(response.raw)\n",
        "\n",
        "plt.imshow(img)\n",
        "plt.show()\n"
      ]
    },
    {
      "cell_type": "code",
      "execution_count": null,
      "metadata": {
        "trusted": true
      },
      "outputs": [],
      "source": [
        "from IPython.display import Image    \n",
        "import requests\n",
        "r = requests.get('https://dog.ceo/api/breeds/image/random')\n",
        "print(r.status_code)\n",
        "print(r.headers['content-type']) \n",
        "print(r.json())                  \n",
        "url=r.json()['message']\n",
        "print(url)\n",
        "Image(url,width=300, height=300)\n",
        "\n"
      ]
    },
    {
      "cell_type": "markdown",
      "metadata": {
        "slideshow": {
          "slide_type": "slide"
        },
        "trusted": true
      },
      "source": [
        "### Numpy - Numerical Library \n",
        "\n",
        "Lots of mathematical functions \n",
        "\n",
        "\n",
        "[https://www.numpy.org/](https://www.numpy.org/)\n",
        "\n",
        "See also SciPy Lecture Notes:\n",
        "\n",
        "[https://scipy-lectures.org](https://scipy-lectures.org)"
      ]
    },
    {
      "cell_type": "code",
      "execution_count": null,
      "metadata": {
        "slideshow": {
          "slide_type": "slide"
        },
        "trusted": true
      },
      "outputs": [],
      "source": [
        "# Numpy example -- ex10_01.py\n",
        "\n",
        "import numpy as np\n",
        "\n",
        "x = np.array([[1,2],[3,4]])\n",
        "y = np.array([[5,6],[7,8]])\n",
        "v = np.array([9,10])\n",
        "w = np.array([11, 12])\n",
        "# Inner product of vectors; both produce 219\n",
        "print(v.dot(w))\n",
        "print(np.dot(v, w))\n",
        "# Matrix / vector product; both produce the rank 1 array [29 67]\n",
        "print(x.dot(v))\n",
        "print(np.dot(x, v))\n",
        "# Matrix / matrix product; both produce the rank 2 array\n",
        "# [[19 22]\n",
        "#  [43 50]]\n",
        "print(x.dot(y))\n",
        "print(np.dot(x, y))"
      ]
    },
    {
      "cell_type": "markdown",
      "metadata": {
        "slideshow": {
          "slide_type": "slide"
        }
      },
      "source": [
        "### Pandas \n",
        "\n",
        "A statistical data analysis library \n",
        "\n",
        "\n",
        "[https://pandas.pydata.org/](https://pandas.pydata.org/)"
      ]
    },
    {
      "cell_type": "code",
      "execution_count": null,
      "metadata": {
        "slideshow": {
          "slide_type": "slide"
        },
        "trusted": true
      },
      "outputs": [],
      "source": [
        "# install the pandas_datareader package \n",
        "# needed for the following example\n",
        "\n",
        "!pip install pandas_datareader"
      ]
    },
    {
      "cell_type": "code",
      "execution_count": null,
      "metadata": {
        "slideshow": {
          "slide_type": "slide"
        },
        "trusted": true
      },
      "outputs": [],
      "source": [
        "# read the MSFT (Microsoft) stock quotes from Yahoo since 2019/01/01\n",
        "# see the beginning and the end of the data, and a statistical description\n",
        "\n",
        "import pandas as pd\n",
        "from pandas_datareader import data as web\n",
        "import datetime\n",
        "\n",
        "start = datetime.datetime(2020, 1, 1)\n",
        "msft = web.DataReader(\"MSFT\",  \"yahoo\", start)\n",
        "\n",
        "print(msft.head())\n",
        "print(msft.tail())\n",
        "print(msft.describe())"
      ]
    },
    {
      "cell_type": "code",
      "execution_count": null,
      "metadata": {
        "slideshow": {
          "slide_type": "slide"
        },
        "trusted": true
      },
      "outputs": [],
      "source": [
        "# read an Excel file \n",
        "\n",
        "import pandas as pd\n",
        "xl=pd.ExcelFile(\"fich01.xlsx\")\n",
        "print(xl.sheet_names)\n",
        "df = xl.parse(xl.sheet_names[0])  # get the first sheet\n",
        "print(df.head())\n",
        "print(df.corr())   # correlation\n",
        "print(df.mean())\n",
        "print(df.describe())\n"
      ]
    },
    {
      "cell_type": "markdown",
      "metadata": {
        "slideshow": {
          "slide_type": "slide"
        }
      },
      "source": [
        "### Issues with Jupyter Notebooks \n",
        "\n",
        "* Executing cells in a random order \n",
        "* Easy to experiment (bad habits)   \n",
        "* .ipynb file is a JSON file \n",
        "* Integration with version control \n",
        "* A good text editor (or IDE) is more helpful/powerful \n",
        "* Copy/Paste from/to Notebooks "
      ]
    },
    {
      "cell_type": "markdown",
      "metadata": {
        "slideshow": {
          "slide_type": "slide"
        }
      },
      "source": [
        "### Things that are interesting \n",
        "\n",
        "* Remote graphical access to more powerful computers \n",
        "* Ease of use \n",
        "* Availability \n",
        "* Automatic generation of containers on-demand \n",
        "\n",
        "**[datalore.io](datalore.io)** \n",
        "\n",
        "* Autocompletion online \n",
        "* Integration with version control (some do it with hooks) \n",
        "* Collaborative editing \n",
        "* More stuff I don't know about \n"
      ]
    },
    {
      "cell_type": "markdown",
      "metadata": {
        "slideshow": {
          "slide_type": "slide"
        }
      },
      "source": [
        "### The End\n"
      ]
    }
  ],
  "metadata": {
    "celltoolbar": "Slideshow",
    "kernelspec": {
      "display_name": "Python 3",
      "language": "python",
      "name": "python3"
    },
    "language_info": {
      "codemirror_mode": {
        "name": "ipython",
        "version": 3
      },
      "file_extension": ".py",
      "mimetype": "text/x-python",
      "name": "python",
      "nbconvert_exporter": "python",
      "pygments_lexer": "ipython3",
      "version": "3.10.4"
    },
    "vscode": {
      "interpreter": {
        "hash": "3ad933181bd8a04b432d3370b9dc3b0662ad032c4dfaa4e4f1596c548f763858"
      }
    }
  },
  "nbformat": 4,
  "nbformat_minor": 2
}
