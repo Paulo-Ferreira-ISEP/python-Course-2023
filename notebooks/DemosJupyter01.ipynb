{
  "cells": [
    {
      "cell_type": "markdown",
      "metadata": {
        "collapsed": true,
        "slideshow": {
          "slide_type": "slide"
        }
      },
      "source": [
        "# Jupyter Notebooks  - 1/2 \n",
        "##  Jornadas Engenharia Biomédica 2023   \n",
        "### Paulo Ferreira pdf@isep.ipp.pt\n",
        "\n"
      ]
    },
    {
      "cell_type": "markdown",
      "metadata": {
        "slideshow": {
          "slide_type": "slide"
        }
      },
      "source": [
        "### Long, long  time ago... \n",
        "\t10 LET A=1\n",
        "\t20 PRINT A \n",
        "\t30 LET A=A+1 \n",
        "\t40 GOTO 20\n",
        "\t"
      ]
    },
    {
      "cell_type": "markdown",
      "metadata": {
        "slideshow": {
          "slide_type": "slide"
        }
      },
      "source": [
        "### Why was this good? \n",
        "\n",
        "* Interpreters\n",
        "* Not installing any software\n",
        "* Fast feedback\t\n",
        "* Everything in one file "
      ]
    },
    {
      "cell_type": "markdown",
      "metadata": {
        "slideshow": {
          "slide_type": "slide"
        }
      },
      "source": [
        "### Can we have the 1980's back?\n",
        "\n",
        "* On the Web? \n",
        "* With graphics? \n",
        "* With a nice programming language? \n",
        "* And lots of libraries? "
      ]
    },
    {
      "cell_type": "markdown",
      "metadata": {
        "slideshow": {
          "slide_type": "slide"
        }
      },
      "source": [
        "### Python \n",
        "\n",
        "* A nice programming language \n",
        "* Interactive Mode (IPython)  \n",
        "* R [https://www.r-project.org](https://www.r-project.org)\n",
        "* Julia [https://julialang.org](https://julialang.org) \n",
        "* Ju & Py & R "
      ]
    },
    {
      "cell_type": "markdown",
      "metadata": {
        "slideshow": {
          "slide_type": "slide"
        }
      },
      "source": [
        "### Jupyter Notebooks\n",
        "\n",
        "* Like in a research notebook \n",
        "* Everything in one file \n",
        "* Scientific data should be reproducible\n",
        "* Scientific data shoud be shareable "
      ]
    },
    {
      "cell_type": "markdown",
      "metadata": {
        "slideshow": {
          "slide_type": "slide"
        }
      },
      "source": [
        "### Kernel \n",
        "\n",
        "![kernel](images/ipy_kernel_and_terminal.png)"
      ]
    },
    {
      "cell_type": "markdown",
      "metadata": {
        "slideshow": {
          "slide_type": "slide"
        }
      },
      "source": [
        "### Types of Kernels \n",
        "![Types of Kernels](images/other_kernels.png)"
      ]
    },
    {
      "cell_type": "markdown",
      "metadata": {
        "slideshow": {
          "slide_type": "slide"
        }
      },
      "source": [
        "### Jupyter Architecture \n",
        "\n",
        "![Jupyter Architecture](images/notebook_components.png)\n",
        "\n",
        "* Images take _(stolen)_ from the Jupyter Official Docs\n",
        "* Notebook file: .ipynb is a JSON file  "
      ]
    },
    {
      "cell_type": "markdown",
      "metadata": {
        "slideshow": {
          "slide_type": "slide"
        }
      },
      "source": [
        "### Local Jupyter Notebooks \n",
        "\n",
        "- Install [Anaconda](https://www.anaconda.com/distribution/) \n",
        "- On the command line: \n",
        "\n",
        "\t\t\tjupyter notebook\n",
        "\t\t\t \t\n",
        "* Really a local webserver at **http://localhost:8888**"
      ]
    },
    {
      "cell_type": "markdown",
      "metadata": {
        "slideshow": {
          "slide_type": "slide"
        }
      },
      "source": [
        "### Docker \n",
        "\n",
        "* Choose your image from: \n",
        "[https://jupyter-docker-stacks.readthedocs.io/en/latest/using/selecting.html](https://jupyter-docker-stacks.readthedocs.io/en/latest/using/selecting.html)\n",
        " "
      ]
    },
    {
      "cell_type": "markdown",
      "metadata": {
        "slideshow": {
          "slide_type": "slide"
        }
      },
      "source": [
        "###  Jupyter Hub \n",
        "\n",
        "- For lots of users: [https://jupyter.org/hub](https://jupyter.org/hub)"
      ]
    },
    {
      "cell_type": "markdown",
      "metadata": {
        "slideshow": {
          "slide_type": "slide"
        }
      },
      "source": [
        "###  Binder \n",
        "* [https://mybinder.org](https://mybinder.org)\n",
        "\n",
        "1. From a git notebook repository address \n",
        "2. Binder builds a docker image with all the requirements\n",
        "3. It starts a server on JupyterHub \t\n",
        "\n",
        "* Requirements: \n",
        "\n",
        "\t \trequirements.txt \n",
        "\t \tenvironment.yml "
      ]
    },
    {
      "cell_type": "markdown",
      "metadata": {
        "slideshow": {
          "slide_type": "slide"
        }
      },
      "source": [
        "### On the Web \n",
        "* Jetbrains: [https://datalore.io](https://datalore.io)\n",
        "* Cocalc [https://cocalc.com](https://cocalc.com)\n",
        "* Colaboratory [https://colab.research.google.com](https://colab.research.google.com)\n",
        "* IBM Watson Studio [https://www.ibm.com/uk-en/marketplace/watson-studio](https://www.ibm.com/uk-en/marketplace/watson-studio)\n",
        "* Microsoft Azure [https://notebooks.azure.com](https://notebooks.azure.com)"
      ]
    },
    {
      "cell_type": "markdown",
      "metadata": {
        "slideshow": {
          "slide_type": "slide"
        }
      },
      "source": [
        "### Azure \n",
        "\n",
        "* We already have accounts created:\n",
        "\n",
        "   xxx@isep.ipp.pt\n",
        "\n",
        "* Supports R, Python and F#     \n",
        "* Runs on Linux...\n",
        "* These slides are there and were made with Jupyter    \n",
        "* Login, and create a porject and a notebook inside  \n",
        "* Select _Python 3.6_ as the language"
      ]
    },
    {
      "cell_type": "markdown",
      "metadata": {
        "slideshow": {
          "slide_type": "slide"
        }
      },
      "source": [
        "### Cells \n",
        "    \n",
        "A Jupyter notebook is organized into cells, and each cell we can choose between:\n",
        "\n",
        "1. Code \n",
        "2. Text (in Markdown -- see Cheat Sheet on the end of this notebook ) \n",
        "3. Headings     "
      ]
    },
    {
      "cell_type": "markdown",
      "metadata": {
        "slideshow": {
          "slide_type": "slide"
        }
      },
      "source": [
        "\t \t\n",
        "###  Live Try\n",
        "\n",
        "* Insert a Text Cell \n",
        "* Insert a Code Cell \n",
        "* Run the Code Cell "
      ]
    },
    {
      "cell_type": "markdown",
      "metadata": {
        "slideshow": {
          "slide_type": "slide"
        }
      },
      "source": [
        "\t \t\n",
        "### Sample text cell \n",
        "\n",
        "_italic_ \n",
        "\n",
        "__bold__\n",
        "\n",
        "- item 1\n",
        "- item 2 \n",
        "\n",
        "1. First \n",
        "3. Second \n",
        "5. Third \n",
        "\n",
        "```python\n",
        "\tvar=1\n",
        "\tprint(var)\n",
        "\tvar=\"text\"\n",
        "\tprint(var) \t \t \n",
        "```\t \t\n",
        "python\n",
        "\tvar=1\n",
        "\tprint(var)\n",
        "\tvar=\"text\"\n",
        "\tprint(var) \n",
        "\t"
      ]
    },
    {
      "cell_type": "markdown",
      "metadata": {
        "slideshow": {
          "slide_type": "slide"
        }
      },
      "source": [
        "### Menus \n",
        "\n",
        "* File \n",
        "* Edit \n",
        "* View \n",
        "* Insert \n",
        "* Cell \n",
        "* Kernel \n",
        "* Azure \n",
        "* Widgets \n",
        "* Help "
      ]
    },
    {
      "cell_type": "markdown",
      "metadata": {
        "slideshow": {
          "slide_type": "slide"
        }
      },
      "source": [
        "\t\n",
        "### Menu tips \n",
        "\t\n",
        "* __Help__ Is very nice! \t\t\n",
        "* __Kernel__ Should be running\n",
        "* __Cell__ Runs a cell (or more) and changes the type of a cell  \n",
        "* __Edit__ Has two nice options \n",
        "\t- __Split Cell__  Paste a lot of text and then split cell\n",
        "\t- __Insert Image__     \n",
        "\t \t \t\n",
        "\t \t \t"
      ]
    },
    {
      "cell_type": "markdown",
      "metadata": {
        "slideshow": {
          "slide_type": "slide"
        }
      },
      "source": [
        "\t \t\n",
        "\n",
        "\n",
        "### Markdown Cheat Sheet \n",
        "\n",
        "* Taken from [My Memory Sucks](https://mymemorysucks.wordpress.com/2018/03/04/markdown-cheat-sheet/)\n",
        "***\n",
        "# title\n",
        "\\# title\n",
        "## major headings\n",
        "\\## major headings\n",
        "### subheadings\n",
        "\\### subheadings\n",
        "#### 4th level subheadings\n",
        "\\#### 4th level subheadings\n",
        "\n",
        "tab &nbsp;&nbsp;&nbsp;&nbsp; (have to use inline HTML as markdown doesn't have tab)\n",
        "\n",
        "\\> quote\n",
        "> quote\n",
        "\n",
        "__bold__    \\_\\_bold\\_\\_ or \\*\\*bold\\*\\*\n",
        "\n",
        "_italic_    \\_italic\\_ or \\*italic\\*\n",
        "\n",
        "\\    (for escaping markdown characters)\n",
        "\n",
        "&lt;br&gt;    (for manual linebreaks)\n",
        "\n",
        "- \"- \"    (a dash and a space for a bullet)\n",
        "  - \"  - \"    (indent a dash and a space with two spaces for a sub bullet)\n",
        "    - \"    - \"    (indent a dash and a space with four spaces for a sub sub bullet)\n",
        "\n",
        "***\n",
        "\\*\\*\\*    (horizontal line)\n",
        "\n",
        "1. \"1\\. \"    (number, period and a space for a numbered list)\n",
        "   - \"   - \"    (indent a dash and a space with three spaces for a sub bullet after a numbered list)\n",
        "\n",
        "`inline code`    \\`inline code\\`\n",
        "\n",
        "\\`\\`\\`javascript\n",
        "/\\*code block with syntax highlighting\\*/\n",
        "var myInt = 0;\n",
        "\\`\\`\\`\n",
        "```javascript\n",
        "/*code block with syntax highlighting*/\n",
        "var myInt = 0;\n",
        "```\n",
        "\n",
        "[link to WikiPedia](https://en.wikipedia.org/wiki/Main_Page)    \\[link to WikiPedia\\](https://en.wikipedia.org/wiki/Main_Page)\n",
        "\n",
        "[link to Relative Location](README.md)    \\[link to Relative Location\\]\\(README.md\\)"
      ]
    }
  ],
  "metadata": {
    "celltoolbar": "Slideshow",
    "kernelspec": {
      "display_name": "Python 3",
      "language": "python",
      "name": "python3"
    },
    "language_info": {
      "codemirror_mode": {
        "name": "ipython",
        "version": 3
      },
      "file_extension": ".py",
      "mimetype": "text/x-python",
      "name": "python",
      "nbconvert_exporter": "python",
      "pygments_lexer": "ipython3",
      "version": "3.10.4 (main, Dec 12 2022, 23:13:54) [GCC 9.4.0]"
    },
    "vscode": {
      "interpreter": {
        "hash": "3ad933181bd8a04b432d3370b9dc3b0662ad032c4dfaa4e4f1596c548f763858"
      }
    }
  },
  "nbformat": 4,
  "nbformat_minor": 2
}
