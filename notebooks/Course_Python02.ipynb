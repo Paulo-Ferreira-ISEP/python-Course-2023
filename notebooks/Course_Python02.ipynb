{
  "cells": [
    {
      "cell_type": "markdown",
      "metadata": {
        "collapsed": true,
        "slideshow": {
          "slide_type": "slide"
        }
      },
      "source": [
        "# Python Crash Course 2/3  \n",
        "##  Jornadas Engenharia Biomédica 2023 \n",
        "### Paulo Ferreira pdf@isep.ipp.pt\n"
      ]
    },
    {
      "cell_type": "code",
      "execution_count": null,
      "metadata": {
        "slideshow": {
          "slide_type": "slide"
        },
        "trusted": true
      },
      "outputs": [],
      "source": [
        "# make calculations in Python \n",
        "\n",
        "print(6-4*7-4)\n",
        "print((6-4)*(7-4))\n",
        "print(15 / 3)\n",
        "print(15 // 3)\n",
        "print(15 % 3)\n",
        "print((4+3)/3*2)\n",
        "print((4+3)/(3*2))\n",
        "print(1 + 1/3)\n",
        "print(1 + 1/3.0)\n",
        "print(1 + 1//3)\n",
        "print(1 + 1//3.0)\n",
        "print(2**4)\n",
        "print(4.0**4)\n"
      ]
    },
    {
      "cell_type": "markdown",
      "metadata": {
        "slideshow": {
          "slide_type": "slide"
        }
      },
      "source": [
        "### Other Numeric Bases \n",
        "\n",
        "- Binary \n",
        "- Octal\n",
        "- Hexadecimal "
      ]
    },
    {
      "cell_type": "code",
      "execution_count": null,
      "metadata": {
        "slideshow": {
          "slide_type": "fragment"
        },
        "trusted": true
      },
      "outputs": [],
      "source": [
        "print(0b10*0b10)\n",
        "print(0o10*0o10)\n",
        "print(0x10*0x10)"
      ]
    },
    {
      "cell_type": "markdown",
      "metadata": {
        "slideshow": {
          "slide_type": "slide"
        }
      },
      "source": [
        "### Import from Modules\n",
        "\n",
        "\n",
        "- Before using the functions of a module:\n",
        "    ```python\n",
        "    import module   \n",
        "    ```\n",
        "- Using a function from a module: \n",
        "\t```python \n",
        "\tmodule.function(argument) \n",
        "\t```\t\n",
        "- Use with caution: \n",
        "\t```python \n",
        "\tfrom module import function\n",
        "\tfunction(argument) \n",
        "    ```\n",
        "- Two functions with the same name on different modules?  \n",
        "\t\t\n"
      ]
    },
    {
      "cell_type": "code",
      "execution_count": null,
      "metadata": {
        "slideshow": {
          "slide_type": "slide"
        },
        "trusted": true
      },
      "outputs": [],
      "source": [
        "\n",
        "import math\n",
        "print(math.sqrt(253))\n",
        "print(math.sin(math.pi))\n",
        "print(math.cos(math.pi))\n",
        "print(math.factorial(500))"
      ]
    },
    {
      "cell_type": "markdown",
      "metadata": {
        "slideshow": {
          "slide_type": "slide"
        }
      },
      "source": [
        "### Common operations \n",
        "\n",
        " | Operator |  Operation | \n",
        " |:--------:|:---------- |\n",
        "| +        | Addition   | \n",
        "| - | Subtraction| \n",
        "| * | Multiplication | \n",
        "| / | Division | \n",
        "| // | Floored division |  \n",
        "|  % | Remainder| \n",
        "| &#x7c;  |Bitwise Or| \n",
        "| & | Bitwise And| \n",
        "| ^ | Bitwise Xor| \n",
        "| ~ | Bitwise Invert| \n"
      ]
    },
    {
      "cell_type": "code",
      "execution_count": null,
      "metadata": {
        "slideshow": {
          "slide_type": "slide"
        },
        "trusted": true
      },
      "outputs": [],
      "source": [
        "# complex numbers \n",
        "import cmath\n",
        "print(cmath.sqrt(-1))\n",
        "print(1j*1j) \n",
        "print((1+1j)*(1+1j))\n",
        "cmath.sqrt(2j)"
      ]
    },
    {
      "cell_type": "code",
      "execution_count": null,
      "metadata": {
        "slideshow": {
          "slide_type": "slide"
        },
        "trusted": true
      },
      "outputs": [],
      "source": [
        "#  ex01_01.py -- First example\n",
        "# We can also use strings of text in Python: \n",
        "print(\"Hello!\")\n",
        "print(\" I am really running!\")\n",
        "print(\" Strange UTF-8:  A acentuação é obrigatória !\")"
      ]
    },
    {
      "cell_type": "code",
      "execution_count": null,
      "metadata": {
        "slideshow": {
          "slide_type": "slide"
        },
        "trusted": true
      },
      "outputs": [],
      "source": [
        "#  ex01_02.py -- Second example\n",
        "\n",
        "print(\"Hello again!\")\n",
        "print(35*33)\n",
        "print(\"A big number:\",  2**128,\" Yes, very Big!\")"
      ]
    },
    {
      "cell_type": "code",
      "execution_count": null,
      "metadata": {
        "slideshow": {
          "slide_type": "slide"
        },
        "trusted": true
      },
      "outputs": [],
      "source": [
        "# More strings in Python \n",
        "\n",
        "my_str=\"Some text \"\n",
        "str2=my_str+my_str\n",
        "str3=3*my_str\n",
        "\n",
        "print(str2)\n",
        "print(str3)"
      ]
    },
    {
      "cell_type": "code",
      "execution_count": null,
      "metadata": {
        "slideshow": {
          "slide_type": "slide"
        },
        "trusted": true
      },
      "outputs": [],
      "source": [
        "# Data types (more to come soon) \n",
        "\n",
        "print(type(1))\n",
        "print(type(2.0))\n",
        "print(type(1j))\n",
        "print(type(\"One\"))"
      ]
    },
    {
      "cell_type": "markdown",
      "metadata": {
        "slideshow": {
          "slide_type": "slide"
        }
      },
      "source": [
        "###  Getting Help \n",
        "    \n",
        "```python \n",
        "   help(module) \n",
        "   help(module.function)\n",
        "```       \n",
        "\n",
        "\n",
        "#### Warning: \n",
        "  \n",
        "- Very slow to use on Jupyter \n",
        "- Use the documentation links from the help menu "
      ]
    },
    {
      "cell_type": "markdown",
      "metadata": {
        "slideshow": {
          "slide_type": "slide"
        },
        "trusted": true
      },
      "source": [
        "### Print explained        \n",
        "       \n",
        "\n",
        "- **print**  in Python 2 was a statement, not a function\n",
        "- **print** in Python 3 is a function, needs () and arguments\n",
        "- We can define the \"end of printing\" string and also the separator string      "
      ]
    },
    {
      "cell_type": "code",
      "execution_count": null,
      "metadata": {
        "slideshow": {
          "slide_type": "slide"
        },
        "trusted": true
      },
      "outputs": [],
      "source": [
        "#  ex01_03.py -- How to use print\n",
        "\n",
        "print(\"Hello again!\")\n",
        "print(35*33)\n",
        "print(\"A big number:\",2**128,\"Yes, Big!\")\n",
        "print(\"A big number:\",2**128,\"Yes, Big!\",end=\"\",sep=\"#\")\n",
        "print(\"A big number:\",2**128,\"Yes, Big!\",sep=\"===\")"
      ]
    },
    {
      "cell_type": "markdown",
      "metadata": {
        "slideshow": {
          "slide_type": "slide"
        }
      },
      "source": [
        "### Solving the division mess \n",
        "\n",
        "\n",
        "- In Python 3.x  **/** alway results in a floating point value and **//** results in an integer.\n",
        "- In Python 2.x the type of the result was also dependent from the operands.\n"
      ]
    },
    {
      "cell_type": "code",
      "execution_count": null,
      "metadata": {
        "slideshow": {
          "slide_type": "slide"
        },
        "trusted": true
      },
      "outputs": [],
      "source": [
        "# ex01_04.py -- How to use the division operators\n",
        "\n",
        "print(35/33)\n",
        "print(35//33)"
      ]
    },
    {
      "cell_type": "markdown",
      "metadata": {
        "slideshow": {
          "slide_type": "slide"
        }
      },
      "source": [
        "### Variable names\n",
        "\n",
        "Start always with a letter or with . Names that start with _  or are surrounded with _  have a special meaning (on next chapters).\n",
        "\n",
        "Examples: \n",
        "\n",
        "\n",
        "    x\n",
        "    x1 \n",
        "    _hidden\n",
        "    __str__\n",
        "    varToTeachVarNames\n"
      ]
    },
    {
      "cell_type": "markdown",
      "metadata": {
        "slideshow": {
          "slide_type": "slide"
        }
      },
      "source": [
        "### Assignment operator        \n",
        "       \n",
        "- Has also composite forms, and we can delete variables\n"
      ]
    },
    {
      "cell_type": "code",
      "execution_count": null,
      "metadata": {
        "slideshow": {
          "slide_type": "slide"
        },
        "trusted": true
      },
      "outputs": [],
      "source": [
        "#  ex01_05.py -- How to use the assignment operator\n",
        "\n",
        "a=22\n",
        "a=a+22\n",
        "a+=11\n",
        "print(a)\n",
        "a*=3\n",
        "print(a)\n",
        "del(a)"
      ]
    },
    {
      "cell_type": "markdown",
      "metadata": {
        "slideshow": {
          "slide_type": "slide"
        }
      },
      "source": [
        "### Input \n",
        "\n",
        "\n",
        "    input(text) \n",
        "  \n",
        "  - prints text and reads a string from the input "
      ]
    },
    {
      "cell_type": "code",
      "execution_count": null,
      "metadata": {
        "slideshow": {
          "slide_type": "slide"
        },
        "trusted": true
      },
      "outputs": [],
      "source": [
        "#  ex01_06.py -- How to use the input functions\n",
        "\n",
        "a=input(\"Write something:\") \n",
        "print(a,type(a),2*a)\n",
        "a=int(input(\"Write an int:\")) \n",
        "print(a,type(a),2*a)\n",
        "a=float(input(\"Write a float:\")) \n",
        "print(a,type(a),2*a)"
      ]
    },
    {
      "cell_type": "markdown",
      "metadata": {
        "slideshow": {
          "slide_type": "slide"
        }
      },
      "source": [
        "### Some functions\n",
        "\n",
        "  \n",
        "| Function | Description |\n",
        "|----------|:----------- | \n",
        "| abs(x)| $|x|$ | \n",
        "| pow(x,y)| $x^y$ | \n",
        "| pow(x,y,z) | $x^y mod z $ |  \n",
        "| round(x)   | round x | \n",
        "| round(x,y) |round x to y decimal places|  \n",
        "| hex(x) | value of x in hex as a string | \n",
        "| octal(x) |  value of x in octal as a string | \n",
        "| bin(x) |   value of x in binary as a string | \n",
        "| str(o) |  representation of o as a string | \n",
        "| int(s) | convert a string into an integer | \n",
        "| float(s) |   convert a string into a float | "
      ]
    },
    {
      "cell_type": "markdown",
      "metadata": {
        "slideshow": {
          "slide_type": "slide"
        }
      },
      "source": [
        "### Logic Values \n",
        "\n",
        "If we need conditional execution, we need conditions, or Logic Values\n",
        "\n",
        "\n",
        "- **False**  - 0, None, strings, tuples and lists with no elements \n",
        "- **True**  - Anything else that is not equivalent to False. \n",
        "\n"
      ]
    },
    {
      "cell_type": "markdown",
      "metadata": {
        "slideshow": {
          "slide_type": "slide"
        },
        "trusted": true
      },
      "source": [
        "\n",
        "###  Comparisons in Python \n",
        "```python\n",
        "print(1==1)   \n",
        "print(1!=2) \n",
        "print(3>2)\n",
        "print(3>=3)\n",
        "print(3<2) \n",
        "print(3<=3)\n",
        "```\n",
        "\n",
        "#### Some nice things\n",
        "\n",
        "```python\n",
        "print(1<2<3)   \n",
        "print(3>=2>=1) \n",
        "```"
      ]
    },
    {
      "cell_type": "code",
      "execution_count": null,
      "metadata": {
        "slideshow": {
          "slide_type": "slide"
        },
        "trusted": true
      },
      "outputs": [],
      "source": [
        "# comparisons \n",
        "\n",
        "print(1==1)   \n",
        "print(1!=2) \n",
        "print(3>2)\n",
        "print(3>=3)\n",
        "print(3<2) \n",
        "print(3<=3)\n",
        "\n",
        "print(1<2<3)   \n",
        "print(3>=2>=1) "
      ]
    },
    {
      "cell_type": "code",
      "execution_count": null,
      "metadata": {
        "slideshow": {
          "slide_type": "slide"
        },
        "trusted": true
      },
      "outputs": [],
      "source": [
        "# Boolean values \n",
        "print(bool(0))  \n",
        "print(bool(1))\n",
        "print(bool(2>3))\n",
        "print(bool(\"\"))\n",
        "print(bool(\"False\"))\n",
        "print(bool(0.0))\n",
        "print(bool(5>4>1))\n",
        "\n"
      ]
    },
    {
      "cell_type": "code",
      "execution_count": null,
      "metadata": {
        "slideshow": {
          "slide_type": "slide"
        },
        "trusted": true
      },
      "outputs": [],
      "source": [
        "# Boolean operations \n",
        "print(True and True)  \n",
        "print(True and False)\n",
        "print((1>0) or (0<1)) \n",
        "print(True or True) \n",
        "print(not(True))\n",
        "print(not(False))\n",
        "print(False and False or True)\n",
        "print(True or False and False )"
      ]
    },
    {
      "cell_type": "markdown",
      "metadata": {
        "slideshow": {
          "slide_type": "slide"
        }
      },
      "source": [
        "### Boolean functions  \n",
        "- **and** has an higher priority than **or** (like * and +) \n",
        "-  They work in short-circuit, only evaluating all the expressions when needed  "
      ]
    },
    {
      "cell_type": "markdown",
      "metadata": {
        "slideshow": {
          "slide_type": "slide"
        }
      },
      "source": [
        "### If \n",
        "\n",
        "```python\n",
        " if  expression:\n",
        "     block_of_code\n",
        " else:\n",
        "     block_of_code\n",
        "```\n",
        "\n",
        "- Don't forget the colon **-> :** \n",
        "- Indent the code correctly "
      ]
    },
    {
      "cell_type": "code",
      "execution_count": null,
      "metadata": {
        "slideshow": {
          "slide_type": "fragment"
        },
        "trusted": true
      },
      "outputs": [],
      "source": [
        "\n",
        "#  ex01_07.py -- How to use an if\n",
        "\n",
        "a=int(input(\"Write an Integer:\")) \n",
        "if a%2 ==0 :\n",
        "    print(\"The number\", a , \"is even\")"
      ]
    },
    {
      "cell_type": "code",
      "execution_count": null,
      "metadata": {
        "slideshow": {
          "slide_type": "slide"
        },
        "trusted": true
      },
      "outputs": [],
      "source": [
        "#  ex01_08.py -- How to use an if else\n",
        "\n",
        "a=int(input(\"Write an integer:\"))\n",
        "if a%2 == 0:\n",
        "    print(\"The number\", a , \"is even\")\n",
        "else:\n",
        "    print(\"The number\", a , \"is odd\")"
      ]
    },
    {
      "cell_type": "code",
      "execution_count": null,
      "metadata": {
        "slideshow": {
          "slide_type": "slide"
        },
        "trusted": true
      },
      "outputs": [],
      "source": [
        "#  ex01_09.py -- How to use an elif\n",
        "\n",
        "a=int(input(\"Write an integer:\"))\n",
        "if a%2 ==0:\n",
        "    print(\"The number\", a , \"is even\")\n",
        "elif   a%5 == 0:\n",
        "    print(\"The number\", a , \"is odd and a multiple of 5\")\n",
        "else:\n",
        "    print(\"The number\", a , \"is odd\")"
      ]
    },
    {
      "cell_type": "markdown",
      "metadata": {
        "slideshow": {
          "slide_type": "slide"
        }
      },
      "source": [
        "### For\n",
        "```python\n",
        " for  variable in iterable:\n",
        "     block_of_code\n",
        "```"
      ]
    },
    {
      "cell_type": "code",
      "execution_count": null,
      "metadata": {
        "slideshow": {
          "slide_type": "fragment"
        },
        "trusted": true
      },
      "outputs": [],
      "source": [
        "#  ex01_10.py -- How to use a for\n",
        "for  i in   [1,3,5,9]:\n",
        "    print(i)"
      ]
    },
    {
      "cell_type": "markdown",
      "metadata": {
        "slideshow": {
          "slide_type": "slide"
        }
      },
      "source": [
        "### Range\n",
        "- **range(x)** – generates numbers from 0 to x − 1 with a step of 1 \n",
        "- **range(x,y)** – generates numbers from x to y − 1 with a step of 1 \n",
        "- **range(x,y,z)** – generates numbers from x to y − 1 with a step of z\n"
      ]
    },
    {
      "cell_type": "code",
      "execution_count": null,
      "metadata": {
        "slideshow": {
          "slide_type": "fragment"
        },
        "trusted": true
      },
      "outputs": [],
      "source": [
        "#  ex01_11.py -- How to use a for with range\n",
        "for i in range(5):\n",
        "    print(i)\n",
        "\n",
        "for i  in  range(7,10):\n",
        "    print(i)\n",
        "\n",
        "for i  in  range(20,30,3):\n",
        "    print(i)"
      ]
    },
    {
      "cell_type": "code",
      "execution_count": null,
      "metadata": {
        "slideshow": {
          "slide_type": "slide"
        },
        "trusted": true
      },
      "outputs": [],
      "source": [
        "#  ex01_12.py -- How to use a for with several ranges\n",
        "\n",
        "for  i in   list(range(5))+list(range(7,9))+[22,54]:\n",
        "    print(i)\n",
        "    "
      ]
    },
    {
      "cell_type": "code",
      "execution_count": null,
      "metadata": {
        "slideshow": {
          "slide_type": "slide"
        },
        "trusted": true
      },
      "outputs": [],
      "source": [
        "#  ex01_13.py -- How to use a for inside a for\n",
        "\n",
        "for  i in    range(5):\n",
        "    for j  in  range(5):\n",
        "        print(i,\"*\",j,\"=\",i*j)"
      ]
    },
    {
      "cell_type": "markdown",
      "metadata": {
        "slideshow": {
          "slide_type": "slide"
        }
      },
      "source": [
        "### While\n",
        "\n",
        "```python\n",
        " while  condition:\n",
        "     block_of_code\n",
        "```    "
      ]
    },
    {
      "cell_type": "code",
      "execution_count": null,
      "metadata": {
        "slideshow": {
          "slide_type": "fragment"
        },
        "trusted": true
      },
      "outputs": [],
      "source": [
        "#  ex01_14.py -- How to use a while\n",
        "\n",
        "n1=10\n",
        "n2=3\n",
        "q=0\n",
        "while  n1>n2:\n",
        "    n1=n1-n2\n",
        "    q=q+1\n",
        "    \n",
        "print (q,n1)"
      ]
    },
    {
      "cell_type": "markdown",
      "metadata": {
        "slideshow": {
          "slide_type": "slide"
        }
      },
      "source": [
        "### Pass \n",
        "- Syntax: (a placeholder for future code)\n",
        "```python \n",
        "pass\n",
        "```"
      ]
    },
    {
      "cell_type": "code",
      "execution_count": null,
      "metadata": {
        "slideshow": {
          "slide_type": "fragment"
        },
        "trusted": true
      },
      "outputs": [],
      "source": [
        "#  ex01_15.py -- How to use a pass\n",
        "\n",
        "a=int(input(\"Write an integer:\")) \n",
        "if a%2 ==0:\n",
        "    pass\n",
        "else:\n",
        "    print(\"The number\", a , \"is odd\")"
      ]
    },
    {
      "cell_type": "markdown",
      "metadata": {
        "slideshow": {
          "slide_type": "slide"
        }
      },
      "source": [
        "### Break\n",
        "• To break out of a cycle"
      ]
    },
    {
      "cell_type": "code",
      "execution_count": null,
      "metadata": {
        "slideshow": {
          "slide_type": "fragment"
        },
        "trusted": true
      },
      "outputs": [],
      "source": [
        "#  ex01_16.py -- How to use a break\n",
        "\n",
        "for  i in   [1,3,5,9]:\n",
        "     if  i%5 == 0:\n",
        "            break\n",
        "     print(i)\n",
        "\n",
        "print(\"for has ended with i=\",i)"
      ]
    },
    {
      "cell_type": "markdown",
      "metadata": {
        "slideshow": {
          "slide_type": "slide"
        }
      },
      "source": [
        "### Continue \n",
        "\n",
        "- To continue inside a cycle, but skipping the remaining statements"
      ]
    },
    {
      "cell_type": "code",
      "execution_count": null,
      "metadata": {
        "slideshow": {
          "slide_type": "fragment"
        },
        "trusted": true
      },
      "outputs": [],
      "source": [
        "#  ex01_17.py -- How to use a continue\n",
        "\n",
        "for  i in   [1,3,5,9]:\n",
        "     if  i%5 == 0:\n",
        "            continue\n",
        "     print(i)\n",
        "\n",
        "print(\"for has ended with i=\",i)"
      ]
    },
    {
      "cell_type": "markdown",
      "metadata": {
        "slideshow": {
          "slide_type": "slide"
        }
      },
      "source": [
        "### While. . . Else\n",
        "\n",
        "• Has the while cycle ended normally?"
      ]
    },
    {
      "cell_type": "code",
      "execution_count": null,
      "metadata": {
        "slideshow": {
          "slide_type": "fragment"
        },
        "trusted": true
      },
      "outputs": [],
      "source": [
        "#  ex01_18.py -- While with else     \n",
        "\n",
        "names=[\"Joe\",\"Jack\",\"Jill\"] \n",
        "pos=0  \n",
        "while  pos <len(names):\n",
        "    name=names[pos]\n",
        "    if name == \"Jack\": \n",
        "        print(\"Found at position:\",pos)\n",
        "        break \n",
        "    pos+=1 \n",
        "else:\n",
        "    print(\"While cycle has ended. Name was not found.\") "
      ]
    },
    {
      "cell_type": "markdown",
      "metadata": {
        "slideshow": {
          "slide_type": "slide"
        }
      },
      "source": [
        "### Comments\n",
        "\n",
        "Where should you document your code?\n",
        "\n",
        "** In your source  files! **\n",
        "\n",
        "- Source code is meant to be readable by humans!\n",
        "-  You can write comments to help others understand your code. \n",
        "- You can write comments to help YOU understand your code!\n"
      ]
    },
    {
      "cell_type": "markdown",
      "metadata": {
        "slideshow": {
          "slide_type": "slide"
        }
      },
      "source": [
        "### A program without comments"
      ]
    },
    {
      "cell_type": "code",
      "execution_count": null,
      "metadata": {
        "slideshow": {
          "slide_type": "fragment"
        },
        "trusted": true
      },
      "outputs": [],
      "source": [
        "#  ex02_01.py -- A program without comments\n",
        "\n",
        "n1=10\n",
        "n2=3\n",
        "q=0\n",
        "while  n1>n2:\n",
        "    n1=n1-n2\n",
        "    q=q+1\n",
        "print (q,n1)"
      ]
    },
    {
      "cell_type": "markdown",
      "metadata": {
        "slideshow": {
          "slide_type": "slide"
        }
      },
      "source": [
        "### A program with useless comments"
      ]
    },
    {
      "cell_type": "code",
      "execution_count": null,
      "metadata": {
        "slideshow": {
          "slide_type": "fragment"
        },
        "trusted": true
      },
      "outputs": [],
      "source": [
        "#  ex02_02.py -- A program with useless comments\n",
        "\n",
        "n1=10    # n1 is equal to 10\n",
        "n2=3     # n2 is equal to 3\n",
        "q=0      # q is equal to 0\n",
        "while  n1>n2:\n",
        "    # subtract n2 to n1\n",
        "    n1=n1-n2\n",
        "    # add 1 to q\n",
        "    q=q+1\n",
        "print (q,n1)\n",
        "#print q and n1"
      ]
    },
    {
      "cell_type": "markdown",
      "metadata": {
        "slideshow": {
          "slide_type": "slide"
        }
      },
      "source": [
        "### A program with useful comments"
      ]
    },
    {
      "cell_type": "code",
      "execution_count": null,
      "metadata": {
        "slideshow": {
          "slide_type": "fragment"
        },
        "trusted": true
      },
      "outputs": [],
      "source": [
        "\"\"\" This  program  divides two numbers\n",
        "  using sucessive subtractions \"\"\"\n",
        "#  ex02_03.py -- A program with useful comments\n",
        "\n",
        "n1=10    # n1 is the dividend\n",
        "n2=3     # n2 is the divisor\n",
        "q=0      # q is the quotient\n",
        "while  n1>n2:\n",
        "    # subtract the divisor to the dividend\n",
        "    n1=n1-n2\n",
        "    # add 1 to quotient\n",
        "    q=q+1\n",
        "print (q,n1)\n",
        "#print the quotient and the remainder"
      ]
    },
    {
      "cell_type": "markdown",
      "metadata": {
        "slideshow": {
          "slide_type": "slide"
        }
      },
      "source": [
        "### Programming\n",
        "1. Understand the problem\n",
        "2. Divide it into smaller problems\n",
        "3. Write small fragments of code that solve the the small problems, these are called functions! 4. Test the fragments of code and go back if needed\n",
        "5. Join all the fragments of code in a program\n",
        "6. Test the program and go back if needed"
      ]
    },
    {
      "cell_type": "markdown",
      "metadata": {
        "slideshow": {
          "slide_type": "slide"
        }
      },
      "source": [
        "### A function is:\n",
        "- A piece of code with a name\n",
        "- It may accept parameters\n",
        "- It may return one or more values\n",
        "\n",
        "Example:\n",
        "```python \n",
        "def func_name ( parameter, ...):\n",
        "    ....\n",
        "    ....\n",
        "    return val\n",
        "```"
      ]
    },
    {
      "cell_type": "markdown",
      "metadata": {
        "slideshow": {
          "slide_type": "slide"
        }
      },
      "source": [
        "### A function example (1)\n",
        "Without parameters or return value"
      ]
    },
    {
      "cell_type": "code",
      "execution_count": null,
      "metadata": {
        "slideshow": {
          "slide_type": "fragment"
        },
        "trusted": true
      },
      "outputs": [],
      "source": [
        "#  ex02_04.py -- A program with a simple function\n",
        "\n",
        "# a simple function\n",
        "def student():\n",
        "    print(\" I want to sleep!\")\n",
        "\n",
        "# use the function\n",
        "student()\n",
        "student()\n",
        "student()\n"
      ]
    },
    {
      "cell_type": "markdown",
      "metadata": {
        "slideshow": {
          "slide_type": "slide"
        }
      },
      "source": [
        "### A function example (2)\n",
        "With parameters but no return value"
      ]
    },
    {
      "cell_type": "code",
      "execution_count": null,
      "metadata": {
        "slideshow": {
          "slide_type": "fragment"
        },
        "trusted": true
      },
      "outputs": [],
      "source": [
        "#  ex02_05.py -- A program with a function with parameters\n",
        "\n",
        "# a simple function\n",
        "def student( num ):\n",
        "    print(\" I want to sleep\", num,\" weeks!\")\n",
        "\n",
        "# use the function\n",
        "student(3)\n",
        "student(5)"
      ]
    },
    {
      "cell_type": "markdown",
      "metadata": {
        "slideshow": {
          "slide_type": "slide"
        }
      },
      "source": [
        "### A function example (3)\n",
        "With optional parameters (with a default value) but no return value"
      ]
    },
    {
      "cell_type": "code",
      "execution_count": null,
      "metadata": {
        "slideshow": {
          "slide_type": "fragment"
        },
        "trusted": true
      },
      "outputs": [],
      "source": [
        "\n",
        "#  ex02_06.py --A program with a simple function with parameters\n",
        "#               and default values for the parameters\n",
        "\n",
        "# a simple function\n",
        "def student( num=3 ):\n",
        "    print(\" I want to sleep\", num,\" weeks!\")\n",
        "\n",
        "# use the function\n",
        "student()\n",
        "student(4)"
      ]
    },
    {
      "cell_type": "markdown",
      "metadata": {
        "slideshow": {
          "slide_type": "slide"
        }
      },
      "source": [
        "### A function example (4)\n",
        "Without parameters, but with a return value"
      ]
    },
    {
      "cell_type": "code",
      "execution_count": null,
      "metadata": {
        "slideshow": {
          "slide_type": "fragment"
        },
        "trusted": true
      },
      "outputs": [],
      "source": [
        "#  ex02_07.py --A function without parameters\n",
        "#  but with a return value\n",
        "\n",
        "# a simple function\n",
        "def piByLaw( ):\n",
        "    return 3.2\n",
        "\n",
        "# use the function\n",
        "a=piByLaw()\n",
        "print(\"Pi by law:\",a)"
      ]
    },
    {
      "cell_type": "markdown",
      "metadata": {
        "slideshow": {
          "slide_type": "slide"
        }
      },
      "source": [
        "### A function example (5)\n",
        "With parameters and a return value"
      ]
    },
    {
      "cell_type": "code",
      "execution_count": null,
      "metadata": {
        "slideshow": {
          "slide_type": "fragment"
        },
        "trusted": true
      },
      "outputs": [],
      "source": [
        "#  ex02_08.py --A function with parameters\n",
        "#   and with a return value\n",
        "\n",
        "# a simple function\n",
        "def double(n):\n",
        "    return 2*n\n",
        "\n",
        "# use the function\n",
        "a=double(4)\n",
        "print(\"The double of four is:\",a)"
      ]
    },
    {
      "cell_type": "markdown",
      "metadata": {
        "slideshow": {
          "slide_type": "slide"
        }
      },
      "source": [
        "### A function example (6)\n",
        "With parameters and more than one return value"
      ]
    },
    {
      "cell_type": "code",
      "execution_count": null,
      "metadata": {
        "slideshow": {
          "slide_type": "fragment"
        },
        "trusted": true
      },
      "outputs": [],
      "source": [
        "#  ex02_09.py --A function with parameters\n",
        "#   and with more than one return value\n",
        "\n",
        "# a simple function\n",
        "def doubleTriple(n):\n",
        "    return 2*n,3*n\n",
        "\n",
        "# use the function\n",
        "a,b=doubleTriple(4)\n",
        "print(\"The double of four is:\",a,\"and the triple is:\",b)\n",
        "a,b=b,a\n",
        "print(\"The double of four is:\",b,\"and the triple is:\",a)"
      ]
    },
    {
      "cell_type": "markdown",
      "metadata": {
        "slideshow": {
          "slide_type": "slide"
        }
      },
      "source": [
        "### A function example (7)\n",
        "With parameters and also named parameters"
      ]
    },
    {
      "cell_type": "code",
      "execution_count": null,
      "metadata": {
        "slideshow": {
          "slide_type": "fragment"
        },
        "trusted": true
      },
      "outputs": [],
      "source": [
        "#  ex02_10.py --A function with parameters\n",
        "\n",
        "# a simple function\n",
        "def myPowerFunc(base,exponent):\n",
        "    return  base**exponent\n",
        "\n",
        "# use the function\n",
        "a=myPowerFunc(2,4)\n",
        "b=myPowerFunc(exponent=5,base=2)\n",
        "print(\"The results are\",a,\"and:\",b)"
      ]
    },
    {
      "cell_type": "markdown",
      "metadata": {
        "slideshow": {
          "slide_type": "slide"
        }
      },
      "source": [
        "### Variable Scope Rules\n",
        "- A variable is visible on a function and on those *inside* that function.\n",
        "- A variable may hide another with the same name.\n",
        "- We may declare *global* variables, but we must try not to.\n",
        "- *Global* variables are dangerous! "
      ]
    },
    {
      "cell_type": "markdown",
      "metadata": {
        "slideshow": {
          "slide_type": "slide"
        }
      },
      "source": [
        "### Variable Scope (1)\n",
        "A variable hiding another one"
      ]
    },
    {
      "cell_type": "code",
      "execution_count": null,
      "metadata": {
        "slideshow": {
          "slide_type": "fragment"
        },
        "trusted": true
      },
      "outputs": [],
      "source": [
        "#  ex02_11.py -- Scope of variables\n",
        "\n",
        "# a simple function\n",
        "def myFunc():\n",
        "    a=3\n",
        "    print(\"Inside a is:\",a)\n",
        "\n",
        "# use the function\n",
        "a=4\n",
        "myFunc()\n",
        "print(\"Outside a is:\",a)"
      ]
    },
    {
      "cell_type": "markdown",
      "metadata": {
        "slideshow": {
          "slide_type": "slide"
        }
      },
      "source": [
        "### Variable Scope (2)\n",
        "A variable used inside a function"
      ]
    },
    {
      "cell_type": "code",
      "execution_count": null,
      "metadata": {
        "slideshow": {
          "slide_type": "fragment"
        },
        "trusted": true
      },
      "outputs": [],
      "source": [
        "#  ex02_12.py -- Scope of variables\n",
        "\n",
        "# a simple function\n",
        "def myFunc():\n",
        "    print(\"Inside a is:\",a)\n",
        "\n",
        "# use the function\n",
        "a=4\n",
        "myFunc()\n",
        "print(\"Outside a is:\",a)\n",
        "del(a)    \n",
        "\n",
        "# del \"forgets\" the variable and it \n",
        "# is needed for the next cell"
      ]
    },
    {
      "cell_type": "markdown",
      "metadata": {
        "slideshow": {
          "slide_type": "slide"
        }
      },
      "source": [
        "### Variable Scope (3)\n",
        "This gives an error"
      ]
    },
    {
      "cell_type": "code",
      "execution_count": null,
      "metadata": {
        "slideshow": {
          "slide_type": "fragment"
        },
        "trusted": true
      },
      "outputs": [],
      "source": [
        "#  ex02_13.py -- Scope of variables\n",
        "\n",
        "# a simple function\n",
        "def myFunc():\n",
        "    a=4\n",
        "    print(\"Inside a is:\",a)\n",
        "\n",
        "# use the function\n",
        "myFunc()\n",
        "print(\"Outside a is:\",a)"
      ]
    },
    {
      "cell_type": "markdown",
      "metadata": {
        "slideshow": {
          "slide_type": "slide"
        }
      },
      "source": [
        "### Variable Scope (4)\n",
        "Not an error, but not recommended"
      ]
    },
    {
      "cell_type": "code",
      "execution_count": null,
      "metadata": {
        "slideshow": {
          "slide_type": "fragment"
        },
        "trusted": true
      },
      "outputs": [],
      "source": [
        "#  ex02_14.py -- Scope of variables\n",
        "\n",
        "# a simple function\n",
        "def my_func():\n",
        "    global a\n",
        "    a=4\n",
        "    print(\"Inside a is:\",a)\n",
        "\n",
        "# use the function\n",
        "my_func()\n",
        "print(\"Outside a is:\",a)"
      ]
    },
    {
      "cell_type": "markdown",
      "metadata": {
        "slideshow": {
          "slide_type": "slide"
        }
      },
      "source": [
        "### Functions: advanced use\n",
        "    \n",
        "- The same algorithm is used when we do the same thing, more than once. \n",
        "- And, when we do different things, in the same order?\n",
        "- Some examples:\n",
        "\n",
        "  - Determining the maximum of a function?\n",
        "  - Integrating a function in an interval?\n",
        "  - Choosing an option from a (software!) menu?"
      ]
    },
    {
      "cell_type": "markdown",
      "metadata": {
        "slideshow": {
          "slide_type": "slide"
        }
      },
      "source": [
        "### How to do it?\n",
        "- Declare the function.\n",
        "- Use it as a parameter in other functions. \n",
        "- That’s all folks!"
      ]
    },
    {
      "cell_type": "code",
      "execution_count": null,
      "metadata": {
        "slideshow": {
          "slide_type": "slide"
        },
        "trusted": true
      },
      "outputs": [],
      "source": [
        "#  ex02_15.py -- Functions of functions\n",
        "\n",
        "def double(n):\n",
        "    return 2*n\n",
        "\n",
        "def triple(n):\n",
        "    return 3*n\n",
        "\n",
        "def twice(f,n):\n",
        "    return f(f(n))\n",
        "\n",
        "print(\"This is:\",twice(double,3),\"and\",twice(triple,3))"
      ]
    },
    {
      "cell_type": "code",
      "execution_count": null,
      "metadata": {
        "slideshow": {
          "slide_type": "slide"
        },
        "trusted": true
      },
      "outputs": [],
      "source": [
        "#  ex02_16.py -- Functions of functions\n",
        "\n",
        "def double(n):\n",
        "    return 2*n\n",
        "\n",
        "def triple(n):\n",
        "    return 3*n\n",
        "\n",
        "def makeTable(f,low,high):\n",
        "    for i in range(low,high+1):\n",
        "        print(\"x=\",i,\"F(X)=\",f(i))\n",
        "\n",
        "makeTable(double,1,5)\n",
        "makeTable(triple,6,10)"
      ]
    },
    {
      "cell_type": "markdown",
      "metadata": {
        "slideshow": {
          "slide_type": "slide"
        }
      },
      "source": [
        "### Sequences (data types) \n",
        "\n",
        "\n",
        "**Strings** \n",
        "\n",
        "    \"This is a string\"\n",
        "    \n",
        "  * A series of characters\n",
        "  * An immutable data structure\n",
        "\n",
        "** Tuples** \n",
        "\n",
        "    ( 1, ’a’, 4, 5.0)\n",
        "  \n",
        "  * A series of different elements\n",
        "  * An immutable data structure (fixed size)\n",
        " \n",
        "**Lists** \n",
        "    \n",
        "    [1,’a’,4,5.0]\n",
        "   \n",
        "   * A series of different elements \n",
        "   * A mutable data structure (size can vary) "
      ]
    },
    {
      "cell_type": "markdown",
      "metadata": {
        "slideshow": {
          "slide_type": "slide"
        }
      },
      "source": [
        "### Common operators\n",
        "  **+** — Add two sequences\n",
        "  \n",
        "__*__ — Used with an integer to get multiple copies of one sequence\n"
      ]
    },
    {
      "cell_type": "code",
      "execution_count": null,
      "metadata": {
        "slideshow": {
          "slide_type": "subslide"
        },
        "trusted": true
      },
      "outputs": [],
      "source": [
        "\n",
        "print((1,2)+(3,4))\n",
        "print(\"boo\"*3)\n",
        "print([1,2,3]+[4,5,6])\n",
        "print((1,2)+(3,4)*2)"
      ]
    },
    {
      "cell_type": "markdown",
      "metadata": {
        "slideshow": {
          "slide_type": "slide"
        }
      },
      "source": [
        " ### Slicing\n",
        " \n",
        " **a[i]**  – the element i of the sequence (numbering starts with 0)\n",
        " \n",
        " **a[-i]** –Y count from the end of sequence (-1)\n",
        " \n",
        " **a[i:j]** – the sequence from element i to element j − 1\n",
        "  \n",
        " **a[i:]** – the sequence from element i to the end\n",
        "  \n",
        " **a[:i]** – the sequence from the beginning to the element i − 1\n",
        " \n",
        " **a[::1]** – all the elements of the sequence (step=1)\n",
        "  \n",
        " **a[::2]** – every other element\n",
        "  \n",
        " **a[::-1]** – the sequence in reverse\n",
        "  \n",
        " **a[::-2]** – the sequence in reverse (every other element)\n",
        "  "
      ]
    },
    {
      "cell_type": "code",
      "execution_count": null,
      "metadata": {
        "slideshow": {
          "slide_type": "slide"
        },
        "trusted": true
      },
      "outputs": [],
      "source": [
        "# slicing \n",
        "s=\"abcdefghij\"\n",
        "print(s[0]) \n",
        "print(s[-1])\n",
        "print(s[1:-1])\n",
        "print(s[::1])\n",
        "print(s[::2])\n",
        "print(s[::-1])\n",
        "print(s[::-2])\n"
      ]
    },
    {
      "cell_type": "markdown",
      "metadata": {
        "slideshow": {
          "slide_type": "slide"
        }
      },
      "source": [
        " \n",
        "### Sequence functions\n",
        "  \n",
        "  **len(...)** – length of the sequence\n",
        "  \n",
        "  **max(...)** – the largest element of the sequence\n",
        "  \n",
        "  **min(...)** – the smallest element of the sequence\n",
        "  \n",
        "  **sum(...)** – sum of the elements of the sequence\n",
        "  \n",
        "  **sum(...,n)** – sum of the elements of the sequence + n\n",
        "\n",
        " **sorted(...)** – the sorted elements of the sequence\t"
      ]
    },
    {
      "cell_type": "code",
      "execution_count": null,
      "metadata": {
        "slideshow": {
          "slide_type": "slide"
        },
        "trusted": true
      },
      "outputs": [],
      "source": [
        "mylist=[1,5,4,3,2]\n",
        "print(len(mylist))\n",
        "print(max(mylist))\n",
        "print(min(mylist))\n",
        "print(sum(mylist))\n",
        "print(sum(mylist,20))\n",
        "print(sorted(mylist)) "
      ]
    },
    {
      "cell_type": "markdown",
      "metadata": {
        "slideshow": {
          "slide_type": "slide"
        }
      },
      "source": [
        "  ### Special sequence functions \n",
        "  \n",
        "  **reversed(...)** – the sequence in reverse;   cannot be used as a “normal” function\n",
        "  \n",
        "  **enumerate(...)** – gives 2-tuples of the form (index,item);   cannot be used as a “normal” function"
      ]
    },
    {
      "cell_type": "code",
      "execution_count": null,
      "metadata": {
        "slideshow": {
          "slide_type": "subslide"
        },
        "trusted": true
      },
      "outputs": [],
      "source": [
        "mylist=[1,5,4,3,2]\n",
        "\n",
        "for i in reversed(mylist):\n",
        "     print(i)\n",
        "\n",
        "for i,j in enumerate(mylist):\n",
        "    print(i,j)"
      ]
    },
    {
      "cell_type": "markdown",
      "metadata": {
        "slideshow": {
          "slide_type": "slide"
        }
      },
      "source": [
        "### Any All In Index Count \n",
        "\n",
        "  **any(...)** – True if any of the elements is equivalent to True (just\n",
        "one is enough)\n",
        "  \n",
        "  **all(...)** – True only if all of the elements are equivalent to True\n",
        "  \n",
        "  *element* **in** *sequence* – True if the element exists in the sequence\n",
        "   \n",
        "  *element* **not in** *sequence* – True if the element does not exist in the\n",
        "sequence\n",
        "\n",
        "**index(object)** – where the object exists (index)\n",
        "\n",
        "**count(object)** – how many times the object exists in the sequence\n",
        "\n"
      ]
    },
    {
      "cell_type": "code",
      "execution_count": null,
      "metadata": {
        "slideshow": {
          "slide_type": "slide"
        },
        "trusted": true
      },
      "outputs": [],
      "source": [
        "print(any([0,0,0,0]))\n",
        "print(any([0,0,0,1]))\n",
        "print(any([1,1,1,1]))\n",
        "print(all([1,1,1,1]))\n",
        "print(all([1,1,1,0]))\n",
        "print(all([3,9,4,5]))\n",
        "print(all([3,9,4,0]))\n",
        "\n",
        "s=\"abcdabb\"\n",
        "print('a' in s)\n",
        "print('z' in s)\n",
        "print('z' not in s)\n",
        "print('ab' not in s)\n",
        "\n",
        "print(s.index('c'))\n",
        "print(s.index('d'))\n",
        "print(s.count('d'))\n",
        "print(s.count('b'))\n",
        "print(s.count('z'))\n",
        "    "
      ]
    },
    {
      "cell_type": "markdown",
      "metadata": {
        "slideshow": {
          "slide_type": "slide"
        }
      },
      "source": [
        "### Named tuples \n",
        "- Giving names to the fields of a tuple"
      ]
    },
    {
      "cell_type": "code",
      "execution_count": null,
      "metadata": {
        "slideshow": {
          "slide_type": "fragment"
        },
        "trusted": true
      },
      "outputs": [],
      "source": [
        "from collections import namedtuple\n",
        "Student = namedtuple('Student',['number','name','course'])\n",
        "s1=Student(1234,\"John Doe\",\"Python\")\n",
        "print(s1)\n",
        "print(s1.name)\n",
        "print(s1.number)\n"
      ]
    },
    {
      "cell_type": "markdown",
      "metadata": {
        "slideshow": {
          "slide_type": "slide"
        }
      },
      "source": [
        "### List Methods \n",
        "  \n",
        "  * __append(object)__ – appends an object to a list \n",
        "  * __extend(list)__ – appends a list to a list \n",
        "  * __insert(index,object)__ – inserts an object at the index position \n",
        "  * __pop()__ – removes an object from the end of the list\n",
        "  * __remove(value)__ – removes the first occurrence of value from the list \n",
        "  * __reverse()__ – reverses a list (in place) \n",
        "  * __sort()__ – sorts a list (in place) \n",
        "  \n",
        "  Not for tuples or strings!  \n",
        "  "
      ]
    },
    {
      "cell_type": "code",
      "execution_count": null,
      "metadata": {
        "slideshow": {
          "slide_type": "slide"
        },
        "trusted": true
      },
      "outputs": [],
      "source": [
        "mylist=[1,2,3,4,5]\n",
        "mylist.append(1)\n",
        "print(mylist)\n",
        "mylist.extend([5,6])\n",
        "print(mylist)\n",
        "mylist.insert(3,33)\n",
        "print(mylist)\n",
        "print(mylist.pop()) \n",
        "print(mylist)\n",
        "mylist.remove(5)\n",
        "print(mylist)\n",
        "mylist.sort()\n",
        "print(mylist)\n",
        "mylist.reverse()\n",
        "print(mylist)\n"
      ]
    },
    {
      "cell_type": "markdown",
      "metadata": {},
      "source": [
        "### Strings\n",
        "\n",
        "    \"Some text inside quotes\"\n",
        "    ’Some text inside quotes’\n",
        "    \"Inside ’quotes’ we can place apostrophes\"\n",
        "    ’Inside \"apostrophes\" we can place quotes’\n",
        "    \"Two strings side by side\" \"are joined into one\""
      ]
    },
    {
      "cell_type": "markdown",
      "metadata": {
        "slideshow": {
          "slide_type": "slide"
        }
      },
      "source": [
        "### Special Chars \n",
        "\n",
        " \n",
        " | Code |  Meaning | \n",
        " |------|:---------|\n",
        " | \\\\   | Backslash (\\\\)| \n",
        " |  \\’  | Apostrophe (’)| \n",
        "|  \\\\\"  | Quote (\") | \n",
        "| \\a   | Audible signal (beep, screen flash or a bell in very old terminals) | \n",
        "|      \\b |  Backspace | \n",
        "|  \\f | Formfeed  | \n",
        "| \\n | Linefeed | \n",
        "| \\r | Carriage return | \n",
        "| \\t | Horizontal tab | \n",
        "| \\ooo |  The ASCII char with the octal code ooo | \n",
        "| \\xhh | The ASCII char with the hexcode code hh | \n",
        "| \\uxxxx | The Unicode char with the hexcode code xxxx |  \n",
        "| \\Uxxxx | The Unicode char with the hexcode code xxxx | \n",
        "\n",
        "\n"
      ]
    },
    {
      "cell_type": "markdown",
      "metadata": {
        "slideshow": {
          "slide_type": "slide"
        }
      },
      "source": [
        "### What can we do with a string?\n",
        "\n",
        "All the operations seen on sequences including:  \n",
        "\n",
        " **+** - add two strings\n",
        " \n",
        " __*__  - between a between a string and an integer, repeats the string\n",
        " \n",
        "__[ ]__  - all the slicing operations\n",
        "\n"
      ]
    },
    {
      "cell_type": "markdown",
      "metadata": {
        "slideshow": {
          "slide_type": "slide"
        }
      },
      "source": [
        "### String formating styles\n",
        "\n",
        "  * Old and deprecated – based on the C language printf specification with **%**\n",
        "  * New – with **{ }**\n",
        "  * Inside **{ }** there is the order (optional) of the parameters, and their\n",
        "specification.\n",
        "  * Best seen with examples."
      ]
    },
    {
      "cell_type": "code",
      "execution_count": null,
      "metadata": {
        "slideshow": {
          "slide_type": "slide"
        },
        "trusted": true
      },
      "outputs": [],
      "source": [
        "a=1; b=1/3; s=\"test\"\n",
        "print(\"*\", \"{} {} {}\".format(a,b,s), \"*\")\n",
        "print(\"*\", \"{1} {2} {0}\".format(a,b,s), \"*\")\n",
        "print(\"*\", \"{0:d} {1:f} {2:s}\".format(a,b,s), \"*\")\n",
        "print(\"*\", \"{0:10d} {1:10f} {2:10s}\".format(a,b,s), \"*\")\n",
        "print(\"*\", \"{0:10d} {1:10.4f} {2:10.2s}\".format(a,b,s) ,\"*\")\n",
        "print(\"*\", \"{0:<10d} {1:<10f} {2:<10s}\".format(a,b,s) ,\"*\")\n",
        "print(\"*\", \"{0:>10d} {1:>10f} {2:>10s}\".format(a,b,s) ,\"*\")\n",
        "print(\"*\", \"{0:^10d} {1:^10f} {2:^10s}\".format(a,b,s) ,\"*\")\n",
        "print(\"*\", \"{0:#^30}\".format(\"Error\"), \"*\")"
      ]
    },
    {
      "cell_type": "markdown",
      "metadata": {
        "slideshow": {
          "slide_type": "slide"
        }
      },
      "source": [
        "| Code \t| Format  | \n",
        "|---------|---------| \n",
        "| c  | Converts a single char or creates a char from an integer | \n",
        "| s  | Creates a string converting other types to string  using str() | \n",
        "| d | Converts an integer (decimal) |\n",
        "| o | Converts an integer (octal) | \n",
        "| x or X | Converts an integer (hexadecimal) | \n",
        "| b | Converts an integer (binary) | \n",
        "| e or E | Converts a floating point number to an exponential notation | \n",
        "| f or F| Converts a float to a decimal notation (exponential for big numbers) |  \n",
        "| g or G | Converts a float to a decimal notation (exponential if abs(exponent) > 4) |\n",
        "| % | Displays the number as a percentage | "
      ]
    },
    {
      "cell_type": "code",
      "execution_count": null,
      "metadata": {
        "slideshow": {
          "slide_type": "slide"
        },
        "trusted": true
      },
      "outputs": [],
      "source": [
        "#  ex03_01.py -- String Formatting  \n",
        "\n",
        "n=int(input(\"How many numbers?\"))\n",
        "myList=[]\n",
        "for i in range(n):\n",
        "    x=int(input(\"Number {:d} =?\".format(i+1)))\n",
        "    myList.append(x)\n",
        "\n",
        "print(myList)"
      ]
    },
    {
      "cell_type": "code",
      "execution_count": null,
      "metadata": {
        "slideshow": {
          "slide_type": "slide"
        },
        "trusted": true
      },
      "outputs": [],
      "source": [
        "# Converting to Unicode and back \n",
        "s=\"Construção\"\n",
        "print(len(s))\n",
        "r=s.encode(\"UTF-8\")\n",
        "print(r)\n",
        "print(len(r)) \n",
        "s2=r.decode(\"UTF-8\")\n",
        "print(s2) \n",
        "print(len(s2)) "
      ]
    },
    {
      "cell_type": "markdown",
      "metadata": {},
      "source": [
        "### String Functions\n",
        "\n",
        "| Function | Description | \n",
        "|:------|:--|  \n",
        "| chr(i) | Given i that 0 ≤ i < 256, return a string of one character with ASCII code i | \n",
        "| unichr(u) |  Given u, that 0 ≤ u < 65536, returns a string of one Unicode char | \n",
        "| ord(c) | Returns the position of the char c in the ASCII or Unicode table"
      ]
    },
    {
      "cell_type": "markdown",
      "metadata": {
        "slideshow": {
          "slide_type": "slide"
        }
      },
      "source": [
        "### String Methods (1)\n",
        "| Method |  Description | \n",
        "|:---|:---| \n",
        "| capitalize() | Create a copy of the string with only its  first character capitalized.|\n",
        "|lower() | Return a copy of string converted to lowercase. |\n",
        "| upper() | Return a copy of string converted to uppercase.|\n",
        "| swapcase()| Return a copy of string with uppercase characters converted to lowercase and vice versa. |\n",
        "| title() | Return a copy of string with words starting with uppercase characters, all remaining characters in lowercase.| "
      ]
    },
    {
      "cell_type": "code",
      "execution_count": null,
      "metadata": {
        "slideshow": {
          "slide_type": "slide"
        },
        "trusted": true
      },
      "outputs": [],
      "source": [
        "s=\"MyTestString without any imagination\"\n",
        "print(s.capitalize())\n",
        "print(s.lower())\n",
        "print(s.upper())\n",
        "print(s.swapcase())\n",
        "print(s.title())"
      ]
    },
    {
      "cell_type": "markdown",
      "metadata": {
        "slideshow": {
          "slide_type": "slide"
        }
      },
      "source": [
        "### String Methods (2)\n",
        "\n",
        "| Method | Description |\n",
        "|:---|:--|   \n",
        "| center(width) | Create a copy of the string centered in a string of length *width*.  | \n",
        "|  ljust(width) | Return a copy of string left justified in a string of length *width*.  | \n",
        "|  rjust(width) |  Return a copy of string right justified in a string of length *width*. | "
      ]
    },
    {
      "cell_type": "code",
      "execution_count": null,
      "metadata": {
        "slideshow": {
          "slide_type": "slide"
        },
        "trusted": true
      },
      "outputs": [],
      "source": [
        "s=\"Alone\"\n",
        "print('#',s.center(30),'#')\n",
        "print('#',s.ljust(30),'#')\n",
        "print('#',s.rjust(30),'#')"
      ]
    },
    {
      "cell_type": "markdown",
      "metadata": {
        "slideshow": {
          "slide_type": "slide"
        }
      },
      "source": [
        "### String Methods (3)\n",
        "\n",
        "| Method | Description |\n",
        "|:---|:--| \n",
        "| strip() | Return a copy of string with leading and trailing whitespace removed. |\n",
        "|   lstrip() |  Return a copy of string with leading whitespace removed. | \n",
        "| rstrip() | Return a copy of string with trailing whitespace removed. | "
      ]
    },
    {
      "cell_type": "code",
      "execution_count": null,
      "metadata": {
        "slideshow": {
          "slide_type": "fragment"
        },
        "trusted": true
      },
      "outputs": [],
      "source": [
        "s=\"               Lost in the Middle             \"\n",
        "print('#',s.strip(),'#')\n",
        "print('#',s.lstrip(),'#')\n",
        "print('#',s.rstrip(),'#')"
      ]
    },
    {
      "cell_type": "markdown",
      "metadata": {
        "slideshow": {
          "slide_type": "slide"
        }
      },
      "source": [
        "### String Methods (4)\n",
        "\n",
        "| Method | Description |\n",
        "|:---|:--| \n",
        "|    expandtabs([tabsize])    |     Return a copy of string where all tab characters are expanded using spaces. | \n",
        "| | If tabsize is not given, a tab size of 8 characters is assumed. | \n",
        "|  join(sequence) | Return a string which is the concatenation of the strings in the sequence.|\n",
        "| replace(old, new, [num]) | Return a copy of string with all occurrences of substring old replaced by new. | \n",
        "| | If the optional argument num is given, only the  rst num occurrences are replaced. |        "
      ]
    },
    {
      "cell_type": "code",
      "execution_count": null,
      "metadata": {
        "slideshow": {
          "slide_type": "slide"
        },
        "trusted": true
      },
      "outputs": [],
      "source": [
        "s=\" and \"\n",
        "print(s.join([\"Joe\",\"Jack\",\"Jill\"]))\n",
        "s=\"Joe and Jack and Jill\"\n",
        "print(s.replace(\"and\",\"&\"))\n",
        "print(s.replace(\"and\",\"&\",1))"
      ]
    },
    {
      "cell_type": "markdown",
      "metadata": {
        "slideshow": {
          "slide_type": "slide"
        }
      },
      "source": [
        "### String Methods (5)\n",
        "\n",
        "| Method | Description |\n",
        "|:---|:--| \n",
        "| count(sub,[start],[end]) | Number of occurrences of sub in string. | \n",
        "|        startswith(sub,[start],[end]) | True if string starts with sub. | \n",
        "|       endswith(sub,[start],[end]) | True if string ends with sub. | \n",
        "|        find(sub,[start],[end]) | Lowest index in string where sub is found. Return -1 if not found. | \n",
        "|       rfind(sub,[start],[end]) | Highest index in string where sub is found. Return -1 if not found.| \n",
        "|       index(sub,[start],[end]) | Lowest index in string where sub is found. Raise ValueError if not found. | \n",
        "|        rindex(sub,[start],[end]) |       Highest index in string where sub is found. Raise ValueError if not found. | \n",
        "        "
      ]
    },
    {
      "cell_type": "code",
      "execution_count": null,
      "metadata": {
        "slideshow": {
          "slide_type": "slide"
        },
        "trusted": true
      },
      "outputs": [],
      "source": [
        "s=\"ab ab abc\"\n",
        "print(s.count(\"ab\"))\n",
        "print(s.startswith(\"ab\"))\n",
        "print(s.endswith(\"abc\"))\n",
        "print(s.find(\"ab\"))\n",
        "print(s.rfind(\"ab\"))\n",
        "print(s.find(\"z\"))\n",
        "print(s.rindex(\"ab\"))\n",
        "print(s.index(\"z\"))"
      ]
    },
    {
      "cell_type": "markdown",
      "metadata": {
        "slideshow": {
          "slide_type": "slide"
        }
      },
      "source": [
        "### String Methods (6)\n",
        "\n",
        "| Method | Description |\n",
        "|:---|:--| \n",
        "| isalnum() | True if all characters in string are alphanumeric | \n",
        "| isalpha() | True if all characters in string are alphabetic | \n",
        "| isdigit() | True if all characters in string are digits | \n",
        "| islower() | True if all characters in string are lowercase| \n",
        "| isupper() | True if all characters in string are uppercase | \n",
        "| istitle() |  True if string is titlecased.  | \n",
        "| isspace() | True if all characters in string are whitespace |\n"
      ]
    },
    {
      "cell_type": "code",
      "execution_count": null,
      "metadata": {
        "trusted": true
      },
      "outputs": [],
      "source": [
        "s=\"ab123\"\n",
        "print(s.isdigit(),s.isalpha(),s.isalnum())\n",
        "s=\"123\"\n",
        "print(s.isdigit(),s.isalpha(),s.isalnum())\n",
        "s=\"abc\"\n",
        "print(s.isdigit(),s.isalpha(),s.isalnum())\n",
        "print(s.islower(),s.isupper(),s.istitle())\n",
        "s=\"ABC\"\n",
        "print(s.islower(),s.isupper(),s.istitle())\n",
        "s=\"Abc\"\n",
        "print(s.islower(),s.isupper(),s.istitle())"
      ]
    },
    {
      "cell_type": "markdown",
      "metadata": {
        "slideshow": {
          "slide_type": "slide"
        }
      },
      "source": [
        "### String Methods (7)\n",
        "\n",
        "| Method | Description |\n",
        "|:---|:--| \n",
        "| partition(sep) | Return three values: the text prior to the  rst occurrence of _sep_ in string,\n",
        "| | _sep_ as the delimiter, and the text after the  first occurrence of the separator. | \n",
        "| split(sep,[maxsplit]) | Return a list of the words in the string, using sep as the delimiter. | \n",
        "| | If maxsplit is given, at most maxsplit splits are done. |\n",
        "| | If separator is not specified, any whitespace character is a separator.\n",
        "| splitlines(keepends)  |    Return a list of the lines in string. | \n",
        "| | Line breaks are not included in the resulting list unless keepends is given and set to True. |   \n",
        "        "
      ]
    },
    {
      "cell_type": "code",
      "execution_count": null,
      "metadata": {
        "slideshow": {
          "slide_type": "slide"
        },
        "trusted": true
      },
      "outputs": [],
      "source": [
        "s=\"Jones & Jones & Co.\"\n",
        "print(s.partition(\"&\"))\n",
        "print(s.split(\"&\"))\n",
        "print(s.split())\n",
        "print(s.split(\" \"))\n",
        "print(s.split(\"Jones\"))\n",
        "\n",
        "s=\"\"\" first line\n",
        "second line\n",
        "third line\"\"\"\n",
        "print(s.splitlines())\n",
        "print(s.splitlines(True))      "
      ]
    },
    {
      "cell_type": "markdown",
      "metadata": {
        "slideshow": {
          "slide_type": "slide"
        }
      },
      "source": [
        "### File reading & writing \n",
        "\n",
        "What is a file?\n",
        "-  A sequence of bytes in a permanent storage medium \n",
        "-  Is identified by a name\n",
        "\n",
        "Types of files\n",
        "- Directories \n",
        "    - (yes these are also files)\n",
        "- Text  files  \n",
        "    - One can see their contents with a(ny) text editor\n",
        "- Binary  files\n",
        "    - A special program that reads the format of the  file is needed\n"
      ]
    },
    {
      "cell_type": "markdown",
      "metadata": {
        "slideshow": {
          "slide_type": "slide"
        }
      },
      "source": [
        "###  Opening a file\n",
        "\n",
        "- __open__(filename,[mode],[buffering]) – creates or opens a new file\n",
        "\n",
        "\n",
        "| Modes | Description | \n",
        " |:---|:----| \n",
        " | r | For reading, starts at the beginning of the  file | \n",
        " | w | For writing, starts at the beginning of the  file writing over any previous content | \n",
        " | a | For appending, starts at the end of the  file | \n",
        " \n",
        " \n",
        "#### Additional specifications\n",
        "|Spec. |  Description | \n",
        "|:---|:---| \n",
        "| (nothing) | File is a text  file | \n",
        "| U | For reading, together with ’r’ reads uniformly all end-of-line chars | \n",
        "| b | File with binary content (not text)| \n",
        "| + | Allows both read and write from the same  file| \n"
      ]
    },
    {
      "cell_type": "markdown",
      "metadata": {
        "slideshow": {
          "slide_type": "slide"
        }
      },
      "source": [
        "### Examples\n",
        "\n",
        "```python \n",
        "    myData = open(\"datafile.txt\",\"r\")\n",
        "    newValues = open(\"Output.txt\",\"w\")\n",
        "    eventList = open(\"activity.log\",\"a\")\n",
        "    imageFile = open(\"picture.dat\",\"rb\")\n",
        "```    \n",
        "- myData – a text  file opened for reading \n",
        "- newValues – a text  file opened for writing \n",
        "- eventList – a text  file opened for appending \n",
        "- imageFile – a binary  file opened for reading"
      ]
    },
    {
      "cell_type": "code",
      "execution_count": null,
      "metadata": {
        "slideshow": {
          "slide_type": "slide"
        },
        "trusted": true
      },
      "outputs": [],
      "source": [
        "#  ex04_01.py -- Reads a file\n",
        "\n",
        "fileToRead=open(\"textfile.txt\",\"r\")\n",
        "for line in fileToRead:\n",
        "    print(line,end=\"\")\n",
        "\n",
        "fileToRead.close()"
      ]
    },
    {
      "cell_type": "code",
      "execution_count": null,
      "metadata": {
        "slideshow": {
          "slide_type": "slide"
        },
        "trusted": true
      },
      "outputs": [],
      "source": [
        "#  ex04_02.py -- Reads a file\n",
        "\n",
        "with open(\"textfile.txt\",\"r\")  as fileToRead:\n",
        "    for line in  fileToRead:\n",
        "        print(line,end=\"\")"
      ]
    },
    {
      "cell_type": "code",
      "execution_count": null,
      "metadata": {
        "slideshow": {
          "slide_type": "slide"
        },
        "trusted": true
      },
      "outputs": [],
      "source": [
        "#  ex04_03.py -- Reads a file of integers with comments\n",
        "\n",
        "with open(\"text001.txt\",\"r\")  as fileToRead:\n",
        "    data=fileToRead.readline().strip()\n",
        "    while data.startswith('#'):\n",
        "        data=fileToRead.readline().strip()\n",
        "    dataList=[int(data)]\n",
        "    for data in  fileToRead:\n",
        "        dataList.append(int(data.strip()))\n",
        "\n",
        "\n",
        "        print(dataList)"
      ]
    },
    {
      "cell_type": "markdown",
      "metadata": {
        "slideshow": {
          "slide_type": "slide"
        }
      },
      "source": [
        "### File Read Methods\n",
        "\n",
        "\n",
        "\n",
        "| Method | Description | \n",
        "|:----|:------| \n",
        "|    read([n]) | Reads n chars or bytes from the  file (or the rest of the  file if n is not given) | \n",
        "|    readline([n]) | Reads n chars or bytes from the  file (or the next line if n is not given) | \n",
        "|    readlines([n]) | Reads n chars or bytes from the  le (or the next lines if n is not given) | "
      ]
    },
    {
      "cell_type": "markdown",
      "metadata": {
        "slideshow": {
          "slide_type": "slide"
        }
      },
      "source": [
        " ### File Write Methods\n",
        "\n",
        "\n",
        "| Method | Description | \n",
        "|:----|:------| \n",
        "| flush()   | Flush the internal OS buffers.| \n",
        "| write(string) | Writes the string to file (may be buffered) | \n",
        "| writelines(list) | Writes the list of lines to  file (may be buffered) | \n",
        "| truncate([n]) |  Truncates the  file at the current position or at n bytes if n is given. |"
      ]
    },
    {
      "cell_type": "markdown",
      "metadata": {
        "slideshow": {
          "slide_type": "slide"
        }
      },
      "source": [
        "### Other File Methods\n",
        "\n",
        "\n",
        "| Method | Description | \n",
        "|:----|:------|\n",
        "|seek(offset,[how])| Move to a specific off set. If how = 0 or empty offset is absolute, | \n",
        "| | how = 1 for relative offset, and how = 2 offset relative to the end of file | \n",
        "|    tell() | Gives the current position | \n",
        "|    close() |  Closes the  file | \n",
        "|    fileno() | The file descriptor needed for some OS libraries | \n",
        "|    isatty() | True if the  le is connected to the console | "
      ]
    },
    {
      "cell_type": "code",
      "execution_count": null,
      "metadata": {
        "slideshow": {
          "slide_type": "slide"
        },
        "trusted": true
      },
      "outputs": [],
      "source": [
        "#  ex04_04.py -- Reads a file of CSV values\n",
        "import csv\n",
        "\n",
        "dataList=[]\n",
        "with open(\"file001.csv\",\"r\")  as fileToRead:\n",
        "    reader=csv.reader(fileToRead)\n",
        "    for row in  reader:\n",
        "        dataList.append(row)\n",
        "\n",
        "print(dataList)"
      ]
    },
    {
      "cell_type": "code",
      "execution_count": null,
      "metadata": {
        "slideshow": {
          "slide_type": "slide"
        },
        "trusted": true
      },
      "outputs": [],
      "source": [
        "#  ex04_05.py -- Writes a file of CSV values\n",
        "import csv\n",
        "\n",
        "dataList=[1,2,3,4,5]\n",
        "with open(\"file002.csv\",\"w\")  as fileToWrite:\n",
        "    writer=csv.writer(fileToWrite)\n",
        "    writer.writerow(dataList)\n",
        "    writer.writerow(dataList)"
      ]
    },
    {
      "cell_type": "markdown",
      "metadata": {
        "slideshow": {
          "slide_type": "slide"
        }
      },
      "source": [
        "### Errors \n",
        "\n",
        "#### What if an error happens?\n",
        "```python   \n",
        "       try:  \n",
        "            ...\n",
        "            ...\n",
        "       except:  \n",
        "            ...\n",
        "```            \n",
        "-  Meaning: try to execute this code\n",
        "-  If something strange (an exception) happens, then execute the clean-up code"
      ]
    },
    {
      "cell_type": "code",
      "execution_count": null,
      "metadata": {
        "slideshow": {
          "slide_type": "slide"
        },
        "trusted": true
      },
      "outputs": [],
      "source": [
        "#  ex04_06.py -- This program will crash \n",
        "\n",
        "a=10\n",
        "b=0\n",
        "c=a/b "
      ]
    },
    {
      "cell_type": "code",
      "execution_count": null,
      "metadata": {
        "slideshow": {
          "slide_type": "slide"
        },
        "trusted": true
      },
      "outputs": [],
      "source": [
        "#  ex04_07.py -- This program will not crash \n",
        "\n",
        "a=10\n",
        "b=0\n",
        "try: \n",
        "   c=a/b \n",
        "   print(c)\n",
        "except:\n",
        "   print(\"My apologies. I cannot proceed!\") \n",
        "\n",
        " "
      ]
    },
    {
      "cell_type": "markdown",
      "metadata": {
        "slideshow": {
          "slide_type": "slide"
        }
      },
      "source": [
        "### Assert\n",
        "\n",
        "```python \n",
        "    assert condition,\"Message\"\n",
        "``` \n",
        "\n",
        "- If condition is not true, raise an *AssertionError*  exception with *Message*"
      ]
    },
    {
      "cell_type": "code",
      "execution_count": null,
      "metadata": {
        "slideshow": {
          "slide_type": "slide"
        },
        "trusted": true
      },
      "outputs": [],
      "source": [
        "#  ex04_08.py -- This program will detect problems  \n",
        "\n",
        "a=10\n",
        "b=0\n",
        "assert b!=0,\"The variable b should not be zero!\"\n",
        "c=a/b \n",
        "print(c) "
      ]
    },
    {
      "cell_type": "markdown",
      "metadata": {
        "slideshow": {
          "slide_type": "slide"
        }
      },
      "source": [
        "### Iterators and Generators\n",
        "\n",
        "##### Example:\n",
        "    for var in SomethingThatGivesTheNextValues:\n",
        "-  We already know about sequences\n",
        "-  We can make new objects with this behavior (Iterators) \n",
        "-  We can make new functions with this behavior (Generators)\n"
      ]
    },
    {
      "cell_type": "markdown",
      "metadata": {
        "slideshow": {
          "slide_type": "slide"
        }
      },
      "source": [
        "### Yield\n",
        "\n",
        "**yield**  is used to create generators\n",
        "- When an **yield** value statement is found, the function returns that value just like in a return\n",
        "- But, instead of ending, is stays frozen until the next invocation, resuming the execution on the line following the **yield**"
      ]
    },
    {
      "cell_type": "code",
      "execution_count": null,
      "metadata": {
        "slideshow": {
          "slide_type": "slide"
        },
        "trusted": true
      },
      "outputs": [],
      "source": [
        "#  ex04_09.py -- A generator example  \n",
        "\n",
        "def two_gen(n):\n",
        "    res=1\n",
        "    while res<=n: \n",
        "        yield res \n",
        "        res=res<<1\n",
        "        \n",
        "for i in two_gen(2048):\n",
        "    print(i) "
      ]
    },
    {
      "cell_type": "code",
      "execution_count": null,
      "metadata": {
        "slideshow": {
          "slide_type": "slide"
        },
        "trusted": true
      },
      "outputs": [],
      "source": [
        "# Another generator \n",
        "    \n",
        "def three_gen(n):\n",
        "    res=0\n",
        "    while res<=n: \n",
        "        yield res \n",
        "        res=res+3\n",
        "        while res %5==0:\n",
        "            res=res+3\n",
        "        \n",
        "for i in three_gen(40):\n",
        "    print(i) "
      ]
    },
    {
      "cell_type": "markdown",
      "metadata": {
        "slideshow": {
          "slide_type": "slide"
        }
      },
      "source": [
        "### Yield from \n",
        "- Getting the values from a structure \n"
      ]
    },
    {
      "cell_type": "code",
      "execution_count": null,
      "metadata": {
        "slideshow": {
          "slide_type": "fragment"
        },
        "trusted": true
      },
      "outputs": [],
      "source": [
        "# a generator with yield from \n",
        "\n",
        "def gen1():\n",
        "    yield from [1,3,4,7]\n",
        "    \n",
        "def gen2(): \n",
        "    yield from (\"John\", \"Jack\",\"Jill\")\n",
        "       \n",
        "for i in gen1():\n",
        "    print(i) \n",
        "    \n",
        "for i in gen2():\n",
        "    print(i) "
      ]
    },
    {
      "cell_type": "code",
      "execution_count": null,
      "metadata": {
        "trusted": true
      },
      "outputs": [],
      "source": [
        "# another generator with yield from \n",
        "    \n",
        "def triple_gen(n):\n",
        "    res=0\n",
        "    while res<=n: \n",
        "        yield from [res,2*res,3*res] \n",
        "        res = res+1   \n",
        "        \n",
        "for i in triple_gen(4):\n",
        "    print(i) "
      ]
    },
    {
      "cell_type": "code",
      "execution_count": null,
      "metadata": {
        "trusted": true
      },
      "outputs": [],
      "source": []
    }
  ],
  "metadata": {
    "celltoolbar": "Slideshow",
    "kernelspec": {
      "display_name": "Python 3",
      "language": "python",
      "name": "python3"
    },
    "language_info": {
      "codemirror_mode": {
        "name": "ipython",
        "version": 3
      },
      "file_extension": ".py",
      "mimetype": "text/x-python",
      "name": "python",
      "nbconvert_exporter": "python",
      "pygments_lexer": "ipython3",
      "version": "3.10.4"
    },
    "vscode": {
      "interpreter": {
        "hash": "3ad933181bd8a04b432d3370b9dc3b0662ad032c4dfaa4e4f1596c548f763858"
      }
    }
  },
  "nbformat": 4,
  "nbformat_minor": 2
}
