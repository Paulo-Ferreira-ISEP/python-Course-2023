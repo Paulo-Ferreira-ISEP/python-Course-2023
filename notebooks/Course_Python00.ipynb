{
  "cells": [
    {
      "cell_type": "markdown",
      "metadata": {
        "collapsed": true,
        "slideshow": {
          "slide_type": "slide"
        }
      },
      "source": [
        "# Python Crash Course 0/3  \n",
        "## Jornadas Engenharia Biomédica 2023 \n",
        "### Paulo Ferreira pdf@isep.ipp.pt\n",
        "\n"
      ]
    },
    {
      "cell_type": "markdown",
      "metadata": {
        "slideshow": {
          "slide_type": "slide"
        }
      },
      "source": [
        "###   What is this? \n",
        "\n",
        "- This is a Jupiter Notebook\n",
        "- It has \"cells\" that are blocks of text "
      ]
    },
    {
      "cell_type": "markdown",
      "metadata": {
        "slideshow": {
          "slide_type": "slide"
        }
      },
      "source": [
        "### This is another cell \n",
        "\n",
        "- You can edit it:\n",
        "- To edit a cell select it, click on it (the cell has a blue border) and press Enter\n",
        "- In edition mode the cell has a green border\n",
        "- To \"execute\" the contents:  Shift-Enter\n",
        "\n",
        "\n",
        "Cells can have Markdown text or code \n",
        "\n",
        "- Markdown reference: https://www.markdownguide.org/basic-syntax/\n"
      ]
    },
    {
      "cell_type": "code",
      "execution_count": null,
      "metadata": {
        "slideshow": {
          "slide_type": "slide"
        },
        "trusted": true
      },
      "outputs": [],
      "source": [
        "# This is a cell with Python Code \n",
        "# when you select it the cell is placed on edit mode (green border) \n",
        "# to execute the code: Shift-Enter \n",
        "\n",
        "a=34\n",
        "b=a*3+567\n",
        "print(34**b)\n",
        "\n",
        "# to Clear the results: Menu->Cell-> All Output ->Clear "
      ]
    },
    {
      "cell_type": "markdown",
      "metadata": {
        "slideshow": {
          "slide_type": "slide"
        },
        "trusted": true
      },
      "source": [
        "### What to do if the notebook hangs? \n",
        "\n",
        "- Menu -> Kernel -> Interrupt \n",
        "- Menu -> Kernel -> Restart "
      ]
    },
    {
      "cell_type": "code",
      "execution_count": null,
      "metadata": {
        "trusted": true
      },
      "outputs": [],
      "source": []
    }
  ],
  "metadata": {
    "celltoolbar": "Slideshow",
    "kernelspec": {
      "display_name": "Python 3",
      "language": "python",
      "name": "python3"
    },
    "language_info": {
      "codemirror_mode": {
        "name": "ipython",
        "version": 3
      },
      "file_extension": ".py",
      "mimetype": "text/x-python",
      "name": "python",
      "nbconvert_exporter": "python",
      "pygments_lexer": "ipython3",
      "version": "3.10.4 (main, Dec 12 2022, 23:13:54) [GCC 9.4.0]"
    },
    "vscode": {
      "interpreter": {
        "hash": "3ad933181bd8a04b432d3370b9dc3b0662ad032c4dfaa4e4f1596c548f763858"
      }
    }
  },
  "nbformat": 4,
  "nbformat_minor": 2
}
