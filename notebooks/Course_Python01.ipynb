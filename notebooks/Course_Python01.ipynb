{
  "cells": [
    {
      "cell_type": "markdown",
      "metadata": {
        "collapsed": true,
        "slideshow": {
          "slide_type": "slide"
        }
      },
      "source": [
        "# Python Crash Course 1/3  \n",
        "##  Jornadas Engenharia Biomédica 2023 \n",
        "### Paulo Ferreira pdf@isep.ipp.pt\n"
      ]
    },
    {
      "cell_type": "markdown",
      "metadata": {
        "slideshow": {
          "slide_type": "slide"
        }
      },
      "source": [
        "### Why programming? \n",
        "\n",
        "\n",
        "\n",
        "- Do calculations  \n",
        "- Automate tasks  \n",
        "- Control software or equipment \n",
        "- All of the above at a the same time, with the minimum of work "
      ]
    },
    {
      "cell_type": "markdown",
      "metadata": {
        "slideshow": {
          "slide_type": "slide"
        }
      },
      "source": [
        "### How does a computer language works? \n",
        "\n",
        "\n",
        "## It depends\n",
        "\n",
        "- **Compiler**: \n",
        "\n",
        "    * Reads the source code and creates an executable program (compilation)\n",
        "    * The source code is not needed for running the program   \n",
        "    * There is always an executable program  \n",
        "     \n",
        "- **Interpreter**: \n",
        "\n",
        "    * Reads the source code and translates it in order to run the program\n",
        "    * The source code is needed for running the program\n",
        "    * The source code is \"the executable\"   \n",
        " "
      ]
    },
    {
      "cell_type": "markdown",
      "metadata": {
        "slideshow": {
          "slide_type": "slide"
        }
      },
      "source": [
        "### Compiler \n",
        "- Needs a compilation phase (may be long) \n",
        "- The program runs in less time \n",
        "- No interaction \n",
        "- Phases:  Edit-Compile-Run \n",
        "\n",
        "![images/compiler.png](images/compiler.png)"
      ]
    },
    {
      "cell_type": "markdown",
      "metadata": {
        "slideshow": {
          "slide_type": "slide"
        }
      },
      "source": [
        "### Interpreter \n",
        "\n",
        "- No compilation phase \n",
        "- The program runs in more time \n",
        "- Interaction \n",
        "- Phases:  Edit-Run \n",
        "\n",
        "![interpreter.png](images/interpreter.png)"
      ]
    },
    {
      "cell_type": "markdown",
      "metadata": {
        "slideshow": {
          "slide_type": "slide"
        }
      },
      "source": [
        "#### Interpreter - interactive use \n",
        "\n",
        "- User types commands (tries to do do the right things in the right order)  \n",
        "\n",
        " ![interpreter_use.png](images/interpreter_use.png)"
      ]
    },
    {
      "cell_type": "markdown",
      "metadata": {
        "slideshow": {
          "slide_type": "slide"
        }
      },
      "source": [
        "### Scripting \n",
        "\n",
        "- Making a \"program\" for an interpreted language (aka script)\n",
        "- Interesting for rapid prototyping \n",
        "- Using the right libraries the program may be fast enough \n",
        "- Trade-off: a greater run-time but a smaller develop-time   "
      ]
    },
    {
      "cell_type": "markdown",
      "metadata": {
        "slideshow": {
          "slide_type": "slide"
        }
      },
      "source": [
        "### Two sides of Scripting \n",
        "\n",
        "#### Make a \"standalone\" script for something using a common scripting language:\n",
        "\t\n",
        "-\tAutomate a simple task \n",
        "-\tDo small calculations \n",
        "\t\t  \t\n",
        "#### Place a scripting language inside your program (as a programmer): \n",
        " \t\n",
        "- \tFlexibility \n",
        "- \tUsers (and you) will get an added flexibility "
      ]
    },
    {
      "cell_type": "markdown",
      "metadata": {
        "slideshow": {
          "slide_type": "slide"
        }
      },
      "source": [
        "### Scripting languages \n",
        "\n",
        "- Unix shells (Bourne shell, C-shell, Korn shell, bash)\n",
        "- awk (1977) - a simple language for processing data   \n",
        "- Perl (1987) - very, very  flexible, can do everything unix shells and awk do, in their style\n",
        "- TCL (1988) - used in EDA automation and Cisco equipment (graphics with the Tk toolkit)\n",
        "- Python (1990)- an object oriented scripting language, with lots of libraries and toolkits\n",
        "- Ruby (1995)- a more recent object oriented language, with strong influences from functional languages    \n",
        " "
      ]
    },
    {
      "cell_type": "markdown",
      "metadata": {
        "slideshow": {
          "slide_type": "slide"
        }
      },
      "source": [
        "### Python - Where can it be used? (1/2)\n",
        "\n",
        "- Web Frameworks \n",
        "    - http://turbogears.org\n",
        "    - http://www.pylonsproject.org\n",
        "    - https://www.djangoproject.com \n",
        "    - http://flask.pocoo.org \n",
        "- Scientific Calculations \n",
        "    - http://www.numpy.org \n",
        "    - http://www.scipy.org\n",
        "    - http://pandas.pydata.org\n",
        "    - http://www.sagemath.orgSageMath       \n",
        "- Multitouch Interfaces \n",
        "    - https://kivy.org/Kivy \n",
        "    "
      ]
    },
    {
      "cell_type": "markdown",
      "metadata": {
        "slideshow": {
          "slide_type": "slide"
        }
      },
      "source": [
        "### Python - Where can it be used? (2/2)\n",
        "- Animation \n",
        "    - http://www.autodesk.com/products/maya/overview\n",
        "    - https://www.blender.orgBlender\n",
        "- Databases \n",
        "    - http://www.sqlalchemy.org \n",
        "    - http://www.postgresql.org \n",
        "- Android \n",
        "    - http://qpython.com\n",
        "- iOS \n",
        "    - http://omz-software.com/pythonista\n",
        "- Profiling & Debug\n",
        "    - http://dtrace.org/blogs/about\n",
        "    - https://www.gnu.org/software/gdb/GDB \n",
        " "
      ]
    },
    {
      "cell_type": "markdown",
      "metadata": {
        "slideshow": {
          "slide_type": "slide"
        }
      },
      "source": [
        "### Different kinds of Python \n",
        "\n",
        "- CPython https://www.python.org  - the \"normal\" version of Python written in C \n",
        "- PyPy http://pypy.org - JIT compiler written in Python \n",
        "- Jython http://www.jython.org - Python for the Java Virtual Machine  \n",
        "- IronPython http://ironpython.net - Python for .NET    \n",
        "- Stackless https://bitbucket.org/stackless-dev/stackless/wiki/Home - Python for lots of threads \n",
        "- MicroPython https://micropython.org - Python for microcontrollers\n",
        "- Brython http://www.brython.info - Python over JavaScript for Browser   \n",
        "- Cython http://cython.org - A compromise between Python and C  \n",
        "- Pyodide https://github.com/iodide-project/pyodide - Python compiled to WebAssembly "
      ]
    },
    {
      "cell_type": "markdown",
      "metadata": {
        "slideshow": {
          "slide_type": "slide"
        }
      },
      "source": [
        "### What is the trouble of programming?\n",
        "\n",
        "\n",
        "- Computers do not forgive minor errors (a missing comma)\n",
        "- How do you work with the programming environment?\n",
        "- What are the things you can manipulate?   (data structures)\n",
        "- What kind of manipulations you can do?  (functions, control structures, language constructs)\n",
        "- Join the right data structures with the right instructions (sequence of instructions) in order to write a program   "
      ]
    },
    {
      "cell_type": "markdown",
      "metadata": {
        "slideshow": {
          "slide_type": "slide"
        }
      },
      "source": [
        "### What do we need to remember? "
      ]
    },
    {
      "cell_type": "markdown",
      "metadata": {
        "slideshow": {
          "slide_type": "slide"
        }
      },
      "source": [
        "## We don't need to remember, we need to forget! \n",
        "\n",
        "- Our brain is limited, and trying to think about everything at the same time does not work\n",
        "- Divide problems into smaller problems \n",
        "- Worry about one problem at a time (forget the others!)\n",
        "- If the problem cannot be solved, solve a small part of it      "
      ]
    },
    {
      "cell_type": "markdown",
      "metadata": {
        "slideshow": {
          "slide_type": "slide"
        }
      },
      "source": [
        "### Programming\n",
        "- Understand the problem  \n",
        "- Divide it into smaller problems \n",
        "- Write small fragments of code that solve the the small problems \n",
        "- Test the fragments of code and go back if needed  \n",
        "- Join all the fragments of code in a program\n",
        "- Test the program and go back if needed        "
      ]
    },
    {
      "cell_type": "markdown",
      "metadata": {
        "slideshow": {
          "slide_type": "slide"
        }
      },
      "source": [
        "### How to break complex problems?\n",
        "\n",
        "**It depends** \n",
        "\n",
        "- Look at the problem \n",
        "- Look at the language's data structures\n",
        "- Look at the language's  libraries\n",
        "- Look at programs from the past  "
      ]
    },
    {
      "cell_type": "markdown",
      "metadata": {
        "slideshow": {
          "slide_type": "slide"
        }
      },
      "source": [
        "### What to learn?\n",
        "\n",
        "- The \"mechanics\" of doing a script (edit, run, debug) \n",
        "- The Python language  \n",
        "- Learn programing by reading and writing programs  \n",
        " "
      ]
    },
    {
      "cell_type": "markdown",
      "metadata": {
        "slideshow": {
          "slide_type": "slide"
        }
      },
      "source": [
        "### Learning by trial and error\n",
        "\n",
        "- In the software world it can be done (do lots of programs and see why they fail) \n",
        "- Not a good approach in other areas of engineering\n",
        " "
      ]
    },
    {
      "cell_type": "markdown",
      "metadata": {
        "slideshow": {
          "slide_type": "slide"
        }
      },
      "source": [
        "## Python Distributions\n",
        "\n",
        "- Python Official site: http://python.org  \n",
        "- Anaconda: https://www.continuum.io/downloads \n",
        "- Active State Python: http://www.activestate.com/activepython/downloads   \n",
        "- On Linux - you should have Python packages on your distribution \n",
        "- OSX - also on MacPorts and HomeBrew  "
      ]
    },
    {
      "cell_type": "markdown",
      "metadata": {
        "slideshow": {
          "slide_type": "slide"
        }
      },
      "source": [
        "### Python IDEs - or editors \n",
        "\n",
        "- Your favorite text editor \n",
        "- Geany (Editor): http://www.geany.org/Download/Releases \n",
        "- Pyzo: https://pyzo.org \n",
        "- PyCharm (Python IDE):  http://www.jetbrains.com/pycharm/ (License available for ISEP or Community Edition)  \n",
        "- PyDev (Eclipse based IDE): http://www.pydev.org \n",
        "- Python Tools for VisualStudio: https://visualstudio.microsoft.com/vs/features/python/\n",
        "- Python for VS Code: https://code.visualstudio.com/docs/languages/python \n",
        " "
      ]
    },
    {
      "cell_type": "markdown",
      "metadata": {
        "slideshow": {
          "slide_type": "slide"
        }
      },
      "source": [
        "### Online IDEs: \n",
        "\n",
        "- repl.it -http://repl.it/languages/Python3\n",
        "- IDE One -https://ideone.com\n",
        "- Learn Python - http://www.learnpython.org\n",
        "- Online tutor with data structure animation - http://pythontutor.com\n",
        "- Interactive book - http://interactivepython.org/courselib/static/thinkcspy/index.html\n",
        "\n",
        " "
      ]
    },
    {
      "cell_type": "markdown",
      "metadata": {
        "slideshow": {
          "slide_type": "slide"
        }
      },
      "source": [
        "### Free books and tutorials\n",
        "\n",
        "- Think Python: http://greenteapress.com/thinkpython2/index.html\n",
        "\t\n",
        "\t- Talks about python with an emphasis on the programming state of mind\n",
        "\t   \n",
        "- Dive into Python: http://www.diveintopython.net \t\n",
        "\t- Python for experienced programmers \n",
        "\n",
        "- A byte of Python: http://swaroopch.com/notes/python/   \n",
        "\t- Small and simple \n",
        "\t\n",
        "- Learn Python the Hard Way: http://learnpythonthehardway.org/book/   \n",
        "\t\n",
        "\t- Learn by reading code  \n",
        "\t\n",
        "- Building skills in Python: http://www.itmaybeahack.com/homepage/books/python.html   \n",
        "\t\n",
        "   - Very complete and detailed  \n",
        "\t"
      ]
    },
    {
      "cell_type": "markdown",
      "metadata": {
        "slideshow": {
          "slide_type": "slide"
        }
      },
      "source": [
        "### Free Books from Springer\n",
        "\n",
        "- Beginning Python: From Novice to Professional\n",
        "https://link.springer.com/book/10.1007/978-1-4302-0072-7\n",
        "\n",
        "- Dive Into Python 3\n",
        "https://link.springer.com/book/10.1007/978-1-4302-2416-7\n",
        "\n",
        "- Beginning Game Development with Python and Pygame\n",
        "https://link.springer.com/book/10.1007/978-1-4302-0325-4\n",
        "\n",
        "Free to download from an Academic Institution \n",
        "\t"
      ]
    },
    {
      "cell_type": "markdown",
      "metadata": {
        "slideshow": {
          "slide_type": "slide"
        }
      },
      "source": [
        "### Python Books\n",
        "    \n",
        "- Learning Python 5th ed.  : http://shop.oreilly.com/product/0636920028154.do   \n",
        "\t- 1600 pages  \n",
        "\t\t\n",
        "- Python in a Nutshell 3rd ed. :  http://shop.oreilly.com/product/0636920012610.do\n",
        "    - A wide perspective about Python\n",
        "   \n",
        "- The Hitchhiker's Guide to Python : http://shop.oreilly.com/product/0636920042921.do\n",
        "    - Best practices for Development\n",
        " \n",
        "- The Python 3 Standard Library by Example : https://www.informit.com/store/python-3-standard-library-by-example-9780134291055 \n",
        "    - The many functions included in the standard library \n",
        "\n",
        "- Fluent Python : http://shop.oreilly.com/product/0636920032519.do\n",
        "    - Advanced, but very readable (2nd ed comming soon) \n",
        " \n",
        " "
      ]
    },
    {
      "cell_type": "markdown",
      "metadata": {
        "slideshow": {
          "slide_type": "slide"
        }
      },
      "source": [
        "### Various links \n",
        "\n",
        "- Python tutor (visualize code execution): http://www.pythontutor.com/  \n",
        "\n",
        "- Free Python Books:  https://github.com/EbookFoundation/free-programming-books/blob/master/free-programming-books.md#python\n",
        "\n",
        "- Awesome Python: A curated list of awesome Python frameworks, libraries, software and resources.\n",
        "  https://github.com/vinta/awesome-python \n",
        "  \n",
        "- Awesome Python Applications (Open Source): https://github.com/mahmoud/awesome-python-applications  \n"
      ]
    },
    {
      "cell_type": "markdown",
      "metadata": {
        "slideshow": {
          "slide_type": "slide"
        }
      },
      "source": [
        "### Caveats\n",
        "\n",
        "\n",
        "#### Versions of Python:    \n",
        "- ** There are several changes in Python from versions 2.\\* to 3.* **\n",
        "- Python 2.0 was launched in October 2000 \n",
        "- Python 2.7 was launched in June 2009, will be EOL in 2020\n",
        "- Python 3.0 was launched in December 2008 \n",
        "- ** Use Python 3! **\n",
        "         \n",
        "#### Indentation has a meaning\n",
        "\t\n",
        "- ** The interpreter analyses the amount of whitespace before the start of a text line ** "
      ]
    },
    {
      "cell_type": "markdown",
      "metadata": {
        "slideshow": {
          "slide_type": "slide"
        }
      },
      "source": [
        "##  Start of Code \n",
        "\n",
        "#### We wil be using a Jupiter Notebook\n",
        "\n",
        "- Pause for Setup & Demo "
      ]
    }
  ],
  "metadata": {
    "celltoolbar": "Slideshow",
    "kernelspec": {
      "display_name": "Python 3",
      "language": "python",
      "name": "python3"
    },
    "language_info": {
      "codemirror_mode": {
        "name": "ipython",
        "version": 3
      },
      "file_extension": ".py",
      "mimetype": "text/x-python",
      "name": "python",
      "nbconvert_exporter": "python",
      "pygments_lexer": "ipython3",
      "version": "3.10.4 (main, Dec 12 2022, 23:13:54) [GCC 9.4.0]"
    },
    "vscode": {
      "interpreter": {
        "hash": "3ad933181bd8a04b432d3370b9dc3b0662ad032c4dfaa4e4f1596c548f763858"
      }
    }
  },
  "nbformat": 4,
  "nbformat_minor": 2
}
