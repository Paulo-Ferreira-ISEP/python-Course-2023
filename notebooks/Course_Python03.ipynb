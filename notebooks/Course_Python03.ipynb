{
  "cells": [
    {
      "cell_type": "markdown",
      "metadata": {
        "collapsed": true,
        "slideshow": {
          "slide_type": "slide"
        }
      },
      "source": [
        "# Crash Course Python  3/3  \n",
        "##  Jornadas Engenharia Biomédica 2023    \n",
        "### Paulo Ferreira pdf@isep.ipp.pt\n"
      ]
    },
    {
      "cell_type": "markdown",
      "metadata": {
        "slideshow": {
          "slide_type": "slide"
        }
      },
      "source": [
        "### List Comprehensions\n",
        "Are:\n",
        "- Another way of creating or processing lists\n",
        "- Shorter syntax\n",
        "- Very powerful\n",
        "- Common: first a *for* then any number of *for*\n",
        "\n",
        "The more common form: \n",
        "\n",
        "    [ expression , ...]"
      ]
    },
    {
      "cell_type": "code",
      "execution_count": null,
      "metadata": {
        "slideshow": {
          "slide_type": "slide"
        },
        "trusted": true
      },
      "outputs": [],
      "source": [
        "\n",
        "threeList=[ 3*x for x in range(4) ]\n",
        "print(threeList)\n",
        "threeTupList=[ (x,3*x) for x in range(4) ]\n",
        "print(threeTupList)\n",
        "tenZeros=[ 0 for x in range(10) ]\n",
        "print(tenZeros)"
      ]
    },
    {
      "cell_type": "code",
      "execution_count": null,
      "metadata": {
        "slideshow": {
          "slide_type": "slide"
        },
        "trusted": true
      },
      "outputs": [],
      "source": [
        "threeEvenTupList=[ (x,3*x) for x in range(10) if x%2==0 ]\n",
        "print(threeEvenTupList)\n",
        "threeEvenTList=[ (x,3*x) for x in range(10) if x%2==0 \n",
        "                 if 3*x not in [12,18] ]\n",
        "print(threeEvenTList)\n",
        "madTuples=[ (x,y) for x in range(4) for y in range(4) \n",
        "                  if x+y>2 ]\n",
        "print(madTuples)"
      ]
    },
    {
      "cell_type": "code",
      "execution_count": null,
      "metadata": {
        "slideshow": {
          "slide_type": "slide"
        },
        "trusted": true
      },
      "outputs": [],
      "source": [
        "##  Card game fragment -- Deck as a list of cards \n",
        "\n",
        "import random\n",
        "ranks=[ \"Ace\", \"2\", \"3\", \"4\", \"5\", \"6\", \"7\",\"8\", \"9\", \"10\", \"Jack\", \"Queen\", \"King\" ]\n",
        "suits=[ \"C\", \"D\", \"H\", \"S\" ] # Clubs, Diamonds, Hearts and Spades \n",
        "mydeck=[ ( rank, suit ) for rank in ranks for suit in suits]\n",
        "random.shuffle(mydeck)\n",
        "# for i in mydeck:  # diagnostics \n",
        "#     print(i)\n",
        "    \n",
        "cards=[]    # cards of each player; 4 players each with 13 cards       \n",
        "for player in range(4):\n",
        "    cards.append(mydeck[0+player*13:13+player*13]) \n",
        "    if (\"Ace\",\"S\") in cards[player]:                # player with the Ace of Spades wins \n",
        "            print(\"Player {:d} has won!\".format(player))\n",
        "            print(cards[player])\n",
        "    "
      ]
    },
    {
      "cell_type": "markdown",
      "metadata": {
        "slideshow": {
          "slide_type": "slide"
        }
      },
      "source": [
        "### Generator comprehension\n",
        "\n",
        "- We can \"generate\" generators instaed of generating lists\n",
        "- Less memory and more eficiency  "
      ]
    },
    {
      "cell_type": "code",
      "execution_count": null,
      "metadata": {
        "slideshow": {
          "slide_type": "fragment"
        },
        "trusted": true
      },
      "outputs": [],
      "source": [
        "# Generator comprehension \n",
        "\n",
        "for i in ( x for x in range(10) if x%2 != 0 if x%3 !=0): \n",
        "    print(i)"
      ]
    },
    {
      "cell_type": "markdown",
      "metadata": {
        "slideshow": {
          "slide_type": "slide"
        }
      },
      "source": [
        "###  \"Functional\" *functions* \n",
        "\n",
        "* **map(function,sequence)**\n",
        "\n",
        "    - Makes a “mapping” into a new domain applying function to every element of the sequence\n",
        "\n",
        "     ![map.png](images/map.png)\n",
        "\n",
        "* **filter(function,sequence)**\n",
        "  \n",
        "  - Filters the elements of the sequence returning only those where the function returns true\n",
        "  \n",
        "\n",
        "* **reduce(function,sequence,\\[initial\\])**\n",
        "  \n",
        "  - Reduces the elements of the sequence to only one value using the given function\n",
        "  \n",
        "     ![reduce.png](images/reduce.png)\n",
        "  "
      ]
    },
    {
      "cell_type": "code",
      "execution_count": null,
      "metadata": {
        "slideshow": {
          "slide_type": "slide"
        },
        "trusted": true
      },
      "outputs": [],
      "source": [
        "# map example \n",
        "\n",
        "def triple(n):\n",
        "     return 3*n\n",
        "    \n",
        "print(list(map(triple,[1,2,3,4])))    \n",
        "\n",
        "for i in map(triple,[5,10,20]):\n",
        "    print(i) \n",
        "\n",
        "#  do a map with a list comprehension  \n",
        "print( [ triple(x) for x in [5,10,20] ] )        "
      ]
    },
    {
      "cell_type": "code",
      "execution_count": null,
      "metadata": {
        "slideshow": {
          "slide_type": "slide"
        },
        "trusted": true
      },
      "outputs": [],
      "source": [
        "# filter example \n",
        "\n",
        "def even(n):\n",
        "    if n%2==0:\n",
        "        return True\n",
        "    else: \n",
        "        return False\n",
        "    \n",
        "print(list(filter(even,[1,2,3,4])))    \n",
        "\n",
        "for i in filter(even,[5,10,20]):\n",
        "    print(i) \n",
        "    \n",
        "#  do a filter with a list comprehension  \n",
        "print( [ x for x in [1,2,3,4] if even(x) ] )   "
      ]
    },
    {
      "cell_type": "code",
      "execution_count": null,
      "metadata": {
        "slideshow": {
          "slide_type": "slide"
        },
        "trusted": true
      },
      "outputs": [],
      "source": [
        "# reduce example\n",
        "\n",
        "from  functools import reduce\n",
        "\n",
        "def mysum(x,y):\n",
        "    return x+y\n",
        "\n",
        "def mymul(x,y):\n",
        "    return x*y\n",
        "\n",
        "\n",
        "print(reduce(mysum,[1,2,3,4]))\n",
        "print(reduce(mysum,[1,2,3,4],15))\n",
        "print(reduce(mymul,[1,2,3,4]))"
      ]
    },
    {
      "cell_type": "markdown",
      "metadata": {
        "slideshow": {
          "slide_type": "slide"
        }
      },
      "source": [
        "### Map -> Reduce  \n",
        " \n",
        " ![map_reduce.png](images/map_reduce.png)\n",
        " \n",
        " - Sum of all the odd numbers : map-> 0 if number is even ; reduce -> sum \n",
        " - List with all the odd numbers : map -> [ ] if number is even else [number] ; reduce concatenate lists "
      ]
    },
    {
      "cell_type": "markdown",
      "metadata": {
        "slideshow": {
          "slide_type": "slide"
        }
      },
      "source": [
        "### Dictionaries & sets\n",
        "\n",
        "* Dictionaries – content addressed lists (key-value lists or *maps* )\n",
        "\n",
        "    dict = {key1:value1, key2:value2, key3:value3 }\n",
        "    \n",
        "\n",
        "* Sets – one make a set from a sequence\n",
        "    \n",
        "    mySet = set([1,2,3,4])"
      ]
    },
    {
      "cell_type": "code",
      "execution_count": null,
      "metadata": {
        "slideshow": {
          "slide_type": "slide"
        },
        "trusted": true
      },
      "outputs": [],
      "source": [
        "# dictionary example\n",
        "\n",
        "mydict={ \"bad\":5, \"average\":10 , \"good\":18}\n",
        "print(mydict[\"bad\"])\n",
        "print(mydict[\"good\"])\n",
        "for key,value in mydict.items():\n",
        "    print(key,value)\n",
        "    \n",
        "for value in mydict.values():\n",
        "    print(value)\n",
        " \n",
        "for key in mydict.keys():\n",
        "    print(key)\n",
        "    "
      ]
    },
    {
      "cell_type": "code",
      "execution_count": null,
      "metadata": {
        "slideshow": {
          "slide_type": "slide"
        },
        "trusted": true
      },
      "outputs": [],
      "source": [
        "# dictionary comprehension \n",
        "words=['Zero','One','Two','Three','Four']\n",
        "ndict={x:words[x] for x in [0,1,2,3,4] }\n",
        "print(ndict)\n",
        "print(ndict[3])"
      ]
    },
    {
      "cell_type": "code",
      "execution_count": null,
      "metadata": {
        "trusted": true
      },
      "outputs": [],
      "source": [
        "# set example \n",
        "\n",
        "mySet=set([1,2,3,4])\n",
        "print(mySet)\n",
        "mySet2=set([3,4,5,6,7,7,7])\n",
        "print(mySet2)\n",
        "print(mySet | mySet2)\n",
        "print(mySet & mySet2)\n",
        "print(mySet - mySet2)\n",
        "print(mySet2 - mySet)\n",
        "print(mySet ^  mySet2)\n"
      ]
    },
    {
      "cell_type": "markdown",
      "metadata": {
        "slideshow": {
          "slide_type": "slide"
        }
      },
      "source": [
        "## Objects and classes on Python\n",
        "\n",
        "\n",
        "#### Warnings \n",
        "\n",
        "- This is a very simple overview\n",
        "-  Consider the source code examples only as samples of the features in\n",
        "the language, not as reflecting the best engineering pratices\n",
        "-  They are valid for Python 3.∗\n",
        "-  There is a serious lack of documentation in the source code examples"
      ]
    },
    {
      "cell_type": "markdown",
      "metadata": {
        "slideshow": {
          "slide_type": "slide"
        }
      },
      "source": [
        "### Our First Class\n",
        "\n",
        "    class ClassName:\n",
        "    \n",
        "   ![class01.png](images/class01.png)\n",
        "  \n",
        "- Good practice: the name of the class in CamelCase\n",
        "-  This class has no attributes and no methods\n",
        "-  One can print the standard Python info about the objects\n",
        "-   One can also use the id() function on them"
      ]
    },
    {
      "cell_type": "code",
      "execution_count": null,
      "metadata": {
        "slideshow": {
          "slide_type": "slide"
        },
        "trusted": true
      },
      "outputs": [],
      "source": [
        "# One very simple class -- ex06_01.py   \n",
        "class MyFirstClass:\n",
        "        pass\n",
        "\n",
        "a=MyFirstClass()\n",
        "b=MyFirstClass()\n",
        "\n",
        "print(a)\n",
        "print(b)\n",
        "print(id(a))\n",
        "print(id(b))"
      ]
    },
    {
      "cell_type": "markdown",
      "metadata": {
        "slideshow": {
          "slide_type": "slide"
        }
      },
      "source": [
        "###  2D Points\n",
        "\n",
        "    class Point:\n",
        "\n",
        "![class02.png](images/class02.png)\n",
        "   \n",
        "- We do not need to declare attributes \n",
        "- Not in the class and not in the objects"
      ]
    },
    {
      "cell_type": "code",
      "execution_count": null,
      "metadata": {
        "slideshow": {
          "slide_type": "slide"
        },
        "trusted": true
      },
      "outputs": [],
      "source": [
        "# 2D points --  ex06_02.py  \n",
        "class Point:\n",
        "        pass\n",
        "\n",
        "pa=Point()\n",
        "pb=Point()\n",
        "pa.x=1\n",
        "pa.y=1\n",
        "pb.x=2\n",
        "pb.y=2\n",
        "\n",
        "print(pa.x,pa.y)\n",
        "print(pb.x,pb.y)"
      ]
    },
    {
      "cell_type": "markdown",
      "metadata": {
        "slideshow": {
          "slide_type": "slide"
        }
      },
      "source": [
        "### 2D Points with a method \n",
        "\n",
        "\n",
        "![class03.png](images/class03.png)\n",
        "\n",
        "    def method(self):\n",
        "  \n",
        "  - Python automagically inserts the object as the first argument of method\n",
        "  - We give the name self to the object, but that is a convention\n",
        "  - Any other name will do, but on the first argument there will be always the object\n"
      ]
    },
    {
      "cell_type": "code",
      "execution_count": null,
      "metadata": {
        "slideshow": {
          "slide_type": "slide"
        },
        "trusted": true
      },
      "outputs": [],
      "source": [
        "# 2D points with a method --  ex06_03.py  \n",
        "class Point:\n",
        "    def reset(self): \n",
        "        self.x=0 \n",
        "        self.y=0 \n",
        "\n",
        "p=Point()\n",
        "p.reset()\n",
        "print(p.x,p.y)"
      ]
    },
    {
      "cell_type": "markdown",
      "metadata": {
        "slideshow": {
          "slide_type": "slide"
        }
      },
      "source": [
        "### 2D Points with two methods\n",
        "\n",
        "![class04.png](images/class04.png)\n",
        "    def method(self):\n",
        "The same thing:\n",
        "  \n",
        "  - Python automagically inserts the object as the first argument of method\n",
        "  - We give the name self to the object, but that is a convention\n",
        "  - Any other name will do, but on the first argument there will be always the object\n",
        "  "
      ]
    },
    {
      "cell_type": "code",
      "execution_count": null,
      "metadata": {
        "slideshow": {
          "slide_type": "slide"
        },
        "trusted": true
      },
      "outputs": [],
      "source": [
        "# 2D points with two methods --  ex06_04.py  \n",
        "class Point:\n",
        "    def move(self,x,y):\n",
        "        self.x=x\n",
        "        self.y=y\n",
        "    def reset(self): \n",
        "        self.move(0,0) \n",
        "\n",
        "p=Point()\n",
        "p.move(1,1)\n",
        "print(p.x,p.y)\n",
        "p.reset()\n",
        "print(p.x,p.y)"
      ]
    },
    {
      "cell_type": "markdown",
      "metadata": {
        "slideshow": {
          "slide_type": "slide"
        }
      },
      "source": [
        "### 2D Points with a method on other object\n",
        "\n",
        "![class05.png](images/class05.png)\n",
        "    \n",
        "    def method(self, other_parameters):\n",
        "\n",
        "- The same thing\n",
        "- We can use objects as parameters"
      ]
    },
    {
      "cell_type": "code",
      "execution_count": null,
      "metadata": {
        "slideshow": {
          "slide_type": "slide"
        },
        "trusted": true
      },
      "outputs": [],
      "source": [
        "# 2D points with three  methods --  ex06_05.py  \n",
        "import math\n",
        "class Point:\n",
        "    def move(self,x,y):\n",
        "        self.x=x\n",
        "        self.y=y\n",
        "    def reset(self): \n",
        "        self.move(0,0) \n",
        "    def distance(self,p):\n",
        "        return math.sqrt((self.x-p.x)**2+(self.y-p.y)**2)        \n",
        "p1=Point()\n",
        "p1.move(3,4)\n",
        "p2=Point()\n",
        "p2.reset()\n",
        "print(p1.distance(p2))"
      ]
    },
    {
      "cell_type": "markdown",
      "metadata": {
        "slideshow": {
          "slide_type": "slide"
        }
      },
      "source": [
        "### 2D Points with a constructor\n",
        "\n",
        "![class06.png](images/class06.png)\n",
        "\n",
        "    def __init__(self, other_parameters):\n",
        "    \n",
        "- A very special method (more coming soon)   \n",
        "- Called when an object is created"
      ]
    },
    {
      "cell_type": "code",
      "execution_count": null,
      "metadata": {
        "slideshow": {
          "slide_type": "slide"
        },
        "trusted": true
      },
      "outputs": [],
      "source": [
        "# 2D points with a constructor -- __init__  --  ex06_06.py  \n",
        "import math\n",
        "class Point:\n",
        "    def __init__(self,x=0,y=0):\n",
        "        self.move(x,y)\n",
        "    def move(self,x,y):\n",
        "        self.x=x\n",
        "        self.y=y\n",
        "    def distance(self,p):\n",
        "        return math.sqrt((self.x-p.x)**2+(self.y-p.y)**2)  \n",
        "\n",
        "p1=Point(3,4)\n",
        "p2=Point()\n",
        "print(p1.distance(p2))"
      ]
    },
    {
      "cell_type": "markdown",
      "metadata": {
        "slideshow": {
          "slide_type": "slide"
        }
      },
      "source": [
        "### Inheritance\n",
        "\n",
        "![class07.png](images/class07.png)\n",
        "\n",
        "\n",
        "    class MadPoint(Point):\n",
        "   \n",
        "We can base classes on other classes\n",
        "- Multiple Inheritance – more than one class as arguments\n",
        "- The order of the arguments will give the priority in the inheritance\n"
      ]
    },
    {
      "cell_type": "code",
      "execution_count": null,
      "metadata": {
        "slideshow": {
          "slide_type": "slide"
        },
        "trusted": true
      },
      "outputs": [],
      "source": [
        "# Inheritance -- ex06_07.py  \n",
        "import math\n",
        "class Point:\n",
        "    def __init__(self,x=0,y=0):\n",
        "        self.move(x,y)\n",
        "    def move(self,x,y):\n",
        "        self.x=x\n",
        "        self.y=y\n",
        "    def distance(self,p):\n",
        "        return math.sqrt((self.x-p.x)**2+(self.y-p.y)**2)  \n",
        "\n",
        "class MadPoint(Point):  \n",
        "    pass \n",
        "\n",
        "p1=MadPoint(3,4)\n",
        "p2=MadPoint()\n",
        "print(p1.distance(p2))"
      ]
    },
    {
      "cell_type": "markdown",
      "metadata": {
        "slideshow": {
          "slide_type": "slide"
        }
      },
      "source": [
        "### Inheritance with new methods\n",
        "![class08.png](images/class08.png)\n",
        "\n",
        "    def method():\n",
        "   \n",
        "We can place methods on the new class\n",
        "They will be available only to objects of that class"
      ]
    },
    {
      "cell_type": "code",
      "execution_count": null,
      "metadata": {
        "slideshow": {
          "slide_type": "slide"
        },
        "trusted": true
      },
      "outputs": [],
      "source": [
        "# Inheritance with new methods -- ex06_08.py  \n",
        "import math\n",
        "class Point:\n",
        "    def __init__(self,x=0,y=0):\n",
        "        self.move(x,y)\n",
        "    def move(self,x,y):\n",
        "        self.x=x\n",
        "        self.y=y\n",
        "    def distance(self,p):\n",
        "        return math.sqrt((self.x-p.x)**2+(self.y-p.y)**2)  \n",
        "\n",
        "class MadPoint(Point):  \n",
        "    def swap(self):\n",
        "        self.x,self.y=self.y,self.x \n",
        "\n",
        "p1=MadPoint(3,4)\n",
        "p1.swap() \n",
        "print(p1.x,p1.y)\n",
        "p2=Point(1,2)\n",
        "p2.swap() \n",
        "#  this should give an error "
      ]
    },
    {
      "cell_type": "markdown",
      "metadata": {
        "slideshow": {
          "slide_type": "slide"
        }
      },
      "source": [
        "### Inheritance with new methods and override\n",
        "\n",
        "![class09.png](images/class09.png)\n",
        "    def method():\n",
        " \n",
        " \n",
        "- We can place methods on the new class to override methods of the old class\n",
        "- Example: our points are really mad and believe they are at a distance of 1.0 of other points"
      ]
    },
    {
      "cell_type": "code",
      "execution_count": null,
      "metadata": {
        "slideshow": {
          "slide_type": "slide"
        },
        "trusted": true
      },
      "outputs": [],
      "source": [
        "# Inheritance with new methods  and override -- ex06_09.py \n",
        "\n",
        "import math\n",
        "class Point:\n",
        "    def __init__(self,x=0,y=0):\n",
        "        self.move(x,y)\n",
        "    def move(self,x,y):\n",
        "        self.x=x\n",
        "        self.y=y\n",
        "    def distance(self,p):\n",
        "        return math.sqrt((self.x-p.x)**2+(self.y-p.y)**2)  \n",
        "\n",
        "class MadPoint(Point):  \n",
        "    def swap(self):\n",
        "        self.x,self.y=self.y,self.x \n",
        "    def distance(self,p):\n",
        "        return 1.0 \n",
        "\n",
        "p1=MadPoint(3,4)\n",
        "p2=Point(0,0)\n",
        "print(p1.distance(p2))\n",
        "print(p2.distance(p1))"
      ]
    },
    {
      "cell_type": "markdown",
      "metadata": {
        "slideshow": {
          "slide_type": "slide"
        }
      },
      "source": [
        "###  Public & Private Issues\n",
        "\n",
        "- By default all attributes and methods are fully public\n",
        "- If an atribute or method name starts with _ it is an indication that the attribute/method should be considered private\n",
        "- An adult programmer respects the privacy of others  :-) \n",
        "- If it starts with __ then Python does a name mangling transformation so one cannot access it (easily)"
      ]
    },
    {
      "cell_type": "markdown",
      "metadata": {
        "slideshow": {
          "slide_type": "slide"
        }
      },
      "source": [
        "### 2D Points with public attributes\n",
        "\n",
        "![class10.png](images/class10.png)\n",
        "\n",
        "-  By default all attributes and methods are public"
      ]
    },
    {
      "cell_type": "code",
      "execution_count": null,
      "metadata": {
        "slideshow": {
          "slide_type": "slide"
        },
        "trusted": true
      },
      "outputs": [],
      "source": [
        "# public attributes  --  ex06_10.py  \n",
        "class Point:\n",
        "    def __init__(self,x=0,y=0):\n",
        "        self.move(x,y)\n",
        "    def move(self,x,y):\n",
        "        self.x=x\n",
        "        self.y=y\n",
        "\n",
        "p1=Point(3,4)\n",
        "p1.x,p1.y=p1.y,p1.x\n",
        "print(p1.x,p1.y)"
      ]
    },
    {
      "cell_type": "markdown",
      "metadata": {
        "slideshow": {
          "slide_type": "slide"
        }
      },
      "source": [
        "### 2D Points with private indication\n",
        "\n",
        "![class11.png](images/class11.png)\n",
        "  \n",
        "- This is just an indication, a request to other programmers \n",
        "- It is not enforced by any means"
      ]
    },
    {
      "cell_type": "code",
      "execution_count": null,
      "metadata": {
        "slideshow": {
          "slide_type": "slide"
        },
        "trusted": true
      },
      "outputs": [],
      "source": [
        "# \"please consider these private\"   --  ex06_11.py  \n",
        "class Point:\n",
        "    def __init__(self,_x=0,_y=0):\n",
        "        self.move(_x,_y)\n",
        "    def move(self,x,y):\n",
        "        self._x=x\n",
        "        self._y=y\n",
        "\n",
        "p1=Point(3,4)\n",
        "p1._x,p1._y=p1._y,p1._x\n",
        "print(p1._x,p1._y)"
      ]
    },
    {
      "cell_type": "markdown",
      "metadata": {
        "slideshow": {
          "slide_type": "slide"
        }
      },
      "source": [
        "### 2D Points with name mangling\n",
        "\n",
        "![class12.png](images/class12.png)\n",
        "-  This asks Python to “obfuscate” the names\n",
        "- One can still find the real names\n",
        "- It is considered a reasonable measure"
      ]
    },
    {
      "cell_type": "code",
      "execution_count": null,
      "metadata": {
        "slideshow": {
          "slide_type": "slide"
        },
        "trusted": true
      },
      "outputs": [],
      "source": [
        "# \"hide these as private\"   --  ex06_12.py  \n",
        "class Point:\n",
        "    def __init__(self,__x=0,__y=0):\n",
        "        self.move(__x,__y)\n",
        "    def move(self,x,y):\n",
        "        self.__x=x\n",
        "        self.__y=y\n",
        "\n",
        "p1=Point(3,4)\n",
        "p1.move(6,8) \n",
        "p1.__x,p1.__y=p1.__y,p1.__x\n",
        "print(p1.__x,p1.__y)\n",
        "\n",
        "# This should give an error "
      ]
    },
    {
      "cell_type": "markdown",
      "metadata": {
        "slideshow": {
          "slide_type": "slide"
        }
      },
      "source": [
        "### Creating attributes in the class instead of in the objects"
      ]
    },
    {
      "cell_type": "code",
      "execution_count": null,
      "metadata": {
        "slideshow": {
          "slide_type": "fragment"
        },
        "trusted": true
      },
      "outputs": [],
      "source": [
        "# \"Counting  the created points\"   --  ex06_13.py  \n",
        "class Point:\n",
        "    numPoints=0 \n",
        "    def __init__(self,x=0,y=0):\n",
        "        self.move(x,y)\n",
        "        Point.numPoints+=1\n",
        "    def move(self,x,y):\n",
        "        self.__x=x\n",
        "        self.__y=y\n",
        "\n",
        "p1=Point(3,4)\n",
        "p2=Point()\n",
        "p3=Point(1,2)\n",
        "print(Point.numPoints)"
      ]
    },
    {
      "cell_type": "markdown",
      "metadata": {
        "slideshow": {
          "slide_type": "slide"
        }
      },
      "source": [
        "### Inheritance with override and *super()*\n",
        "\n",
        "![class13.png](images/class13.png)\n",
        "\n",
        "\n",
        "    def method():\n",
        "   \n",
        "- Supposing our mad points when created, double their coordinates \n",
        "- We can override the **\\__init\\__**  of the original class\n"
      ]
    },
    {
      "cell_type": "code",
      "execution_count": null,
      "metadata": {
        "slideshow": {
          "slide_type": "slide"
        },
        "trusted": true
      },
      "outputs": [],
      "source": [
        "# Inheritance with new methods  and override -- ex06_14.py  \n",
        "import math\n",
        "class Point:\n",
        "    numPoints=0\n",
        "    def __init__(self,x=0,y=0):\n",
        "        self.move(x,y)\n",
        "        Point.numPoints+=1\n",
        "    def move(self,x,y):\n",
        "        self.x=x\n",
        "        self.y=y\n",
        "    def distance(self,p):\n",
        "        return math.sqrt((self.x-p.x)**2+(self.y-p.y)**2)  \n",
        "\n",
        "class MadPoint(Point):  \n",
        "    def __init__(self,x=0,y=0):\n",
        "        self.move(2*x,2*y)\n",
        "    def swap(self):\n",
        "        self.x,self.y=self.y,self.x \n",
        "    def distance(self,p):\n",
        "        return 1.0 \n",
        "\n",
        "p1=MadPoint(3,4)\n",
        "print(p1.x,p1.y,Point.numPoints)"
      ]
    },
    {
      "cell_type": "markdown",
      "metadata": {
        "slideshow": {
          "slide_type": "slide"
        }
      },
      "source": [
        "### What is wrong?\n",
        "\n",
        "- We forgot that the original counted the number of points created \n",
        "- Can we override a method and use it at the same time?\n",
        "\n",
        "####  super() \n",
        "- How to access the so called superclass  \n",
        "- The syntax was very different on Python 2.∗\n",
        "- From the subclass (the class that inherits) call methods on the original class\n"
      ]
    },
    {
      "cell_type": "code",
      "execution_count": null,
      "metadata": {
        "slideshow": {
          "slide_type": "slide"
        },
        "trusted": true
      },
      "outputs": [],
      "source": [
        "# Inheritance with methods, override and super -- ex06_15.py  \n",
        "import math\n",
        "class Point:\n",
        "    numPoints=0\n",
        "    def __init__(self,x=0,y=0):\n",
        "        self.move(x,y)\n",
        "        Point.numPoints+=1\n",
        "    def move(self,x,y):\n",
        "        self.x=x\n",
        "        self.y=y\n",
        "    def distance(self,p):\n",
        "        return math.sqrt((self.x-p.x)**2+(self.y-p.y)**2)  \n",
        "\n",
        "class MadPoint(Point):  \n",
        "    def __init__(self,x=0,y=0):\n",
        "        super().__init__(2*x,2*y)\n",
        "    def swap(self):\n",
        "        self.x,self.y=self.y,self.x \n",
        "    def distance(self,p):\n",
        "        return 1.0 \n",
        "\n",
        "p1=MadPoint(3,4)\n",
        "print(p1.x,p1.y,Point.numPoints)"
      ]
    },
    {
      "cell_type": "markdown",
      "metadata": {
        "slideshow": {
          "slide_type": "slide"
        }
      },
      "source": [
        "### Getters and Setters\n",
        "\n",
        "![class14.png](images/class14.png)\n",
        "\n",
        "- How to get (and set) values directly\n",
        "\n",
        "- Various ways to do it\n",
        "    1. One \n",
        "            name=property(getter,setter)\n",
        "    2. Two \n",
        "            @property # before the getter \n",
        "            @name.setter #  before the setter\n",
        "            \n",
        "            \n",
        "#### Warning: The UML diagram shows the internal details! \n",
        "   \n",
        "###### Externally the class has no visible methods, only \"attributes\"       "
      ]
    },
    {
      "cell_type": "code",
      "execution_count": null,
      "metadata": {
        "slideshow": {
          "slide_type": "slide"
        },
        "trusted": true
      },
      "outputs": [],
      "source": [
        "# \"Getters and setters with property\"   --  ex06_16.py  \n",
        "class Point:\n",
        "    def __init__(self,x=0,y=0):\n",
        "        self.__x,self.__y=x,y\n",
        "    def get_coords(self):\n",
        "        return  self.__x,self.__y\n",
        "    def set_coords(self,xy):\n",
        "        self.__x,self.__y=xy[0],xy[1]\n",
        "    coords=property(get_coords,set_coords)\n",
        "\n",
        "p1=Point(3,4)\n",
        "print(p1.coords)\n",
        "p1.coords=9,1\n",
        "print(p1.coords)"
      ]
    },
    {
      "cell_type": "code",
      "execution_count": null,
      "metadata": {
        "slideshow": {
          "slide_type": "slide"
        },
        "trusted": true
      },
      "outputs": [],
      "source": [
        "# \"Getters and setters with decorators\"   --  ex06_17.py  \n",
        "class Point:\n",
        "    def __init__(self,x=0,y=0):\n",
        "        self.__x,self.__y=x,y\n",
        "    @property\n",
        "    def coords(self):\n",
        "        return  self.__x,self.__y\n",
        "    @coords.setter\n",
        "    def coords(self,xy):\n",
        "        self.__x,self.__y=xy[0],xy[1]\n",
        "p1=Point(3,4)\n",
        "print(p1.coords)\n",
        "p1.coords=9,1\n",
        "print(p1.coords)"
      ]
    },
    {
      "cell_type": "code",
      "execution_count": null,
      "metadata": {
        "slideshow": {
          "slide_type": "slide"
        },
        "trusted": true
      },
      "outputs": [],
      "source": [
        "# \"Class methods\"   --  ex06_18.py  \n",
        "class Point:\n",
        "    numPoints=0 \n",
        "    def __init__(self,x=0,y=0):\n",
        "        self.__x,self.__y=x,y\n",
        "        Point.numPoints+=1\n",
        "    @classmethod\n",
        "    def points(cls):\n",
        "        print(\"This class has created\",cls.numPoints,\"objects\")\n",
        "\n",
        "p1=Point(3,4)\n",
        "p2=Point()\n",
        "p3=Point(1,2)\n",
        "Point.points()"
      ]
    },
    {
      "cell_type": "code",
      "execution_count": null,
      "metadata": {
        "slideshow": {
          "slide_type": "slide"
        },
        "trusted": true
      },
      "outputs": [],
      "source": [
        "# \"Static  methods\"   --  ex06_19.py  \n",
        "class Point:\n",
        "    numPoints=0 \n",
        "    def __init__(self,x=0,y=0):\n",
        "        self.__x,self.__y=x,y\n",
        "        Point.numPoints+=1\n",
        "    @staticmethod\n",
        "    def my_message():\n",
        "        print(\"This class has a static method\")\n",
        "Point.my_message()"
      ]
    },
    {
      "cell_type": "markdown",
      "metadata": {
        "slideshow": {
          "slide_type": "slide"
        }
      },
      "source": [
        "### Special methods (1/4)\n",
        "\n",
        "For implementing operator overloading and also for providing common functionalities Python has a series of special methods.\n",
        "\n",
        "- Their name is usually: **\\__method\\__**\n",
        "- Example: when one writes **a+b** Python \"translates\" it into **a.\\__plus\\__(b)**\n",
        "\n",
        "![methods01.png](images/methods01.png)\n"
      ]
    },
    {
      "cell_type": "markdown",
      "metadata": {
        "slideshow": {
          "slide_type": "slide"
        }
      },
      "source": [
        "### Why alternative methods?\n",
        "\n",
        "1. If an operation involves two objects of different classes and Python does not find the corresponding method defined on the first class, it tries the second class with the **r**\n",
        "   ```python  \n",
        "   3*\"Hello\"\n",
        "   ```     \n",
        "    - Has the integer class this method: \n",
        "        ```python 3*__mul__(\"Hello\")?\n",
        "        ```\n",
        "    - If not, has the string class the method \n",
        "    ```python \"Hello\".__rmul__(3)```?\n",
        "\n",
        "\n",
        "2. This is also useful in the cases where the operation is not commutative"
      ]
    },
    {
      "cell_type": "markdown",
      "metadata": {
        "slideshow": {
          "slide_type": "slide"
        }
      },
      "source": [
        "### Special methods (2/4)\n",
        "\n",
        "\n",
        "![methods02.png](images/methods02.png)\n"
      ]
    },
    {
      "cell_type": "markdown",
      "metadata": {
        "slideshow": {
          "slide_type": "slide"
        }
      },
      "source": [
        "### Special methods (3/4) \n",
        "\n",
        "![methods03.png](images/methods03.png)\n"
      ]
    },
    {
      "cell_type": "markdown",
      "metadata": {
        "slideshow": {
          "slide_type": "slide"
        }
      },
      "source": [
        "### Special methods (4/4) \n",
        "\n",
        "![methods04.png](images/methods04.png)\n",
        "\n",
        "There are more (see the full documentation) "
      ]
    },
    {
      "cell_type": "markdown",
      "metadata": {
        "slideshow": {
          "slide_type": "slide"
        }
      },
      "source": [
        "### Unusual methods\n",
        "- hash(a) – returns an integer used to quickly compare dictionary keys during a dictionary lookup\n",
        "- iter(a) – returns an iterator object\n",
        "- next(a) – returns the next object from an iterator\n",
        "\n",
        "\n",
        "#### Difference between repr & str? \n",
        "\n",
        "Copy/paste from Python Docs:\n",
        "\n",
        "- **repr** -- If at all possible, this should look like a valid Python expression that could be used to recreate an object with the same value (given an appropriate environment).\n",
        "\n",
        "- **str** -- Called by str(object) and the built-in functions format() and print() to compute the “informal” or nicely printable string representation of an object. The return value must be a string object."
      ]
    },
    {
      "cell_type": "markdown",
      "metadata": {
        "slideshow": {
          "slide_type": "slide"
        }
      },
      "source": [
        "### Special methods and operator overloading (1/2)\n",
        "Supposing we want to create 2D points with ints just like we did before, but:\n",
        "1. We want to print them, so we place the two ints in a tuple and convert the tuple into a string\n",
        "2. We want to use the + operator to add them, so on the add method we create a new object with the sum of the points"
      ]
    },
    {
      "cell_type": "code",
      "execution_count": null,
      "metadata": {
        "slideshow": {
          "slide_type": "slide"
        },
        "trusted": true
      },
      "outputs": [],
      "source": [
        "# \"Special  methods\"   --  ex06_20.py  \n",
        "class Point:\n",
        "    def __init__(self,x=0,y=0):\n",
        "        self.__x,self.__y=x,y\n",
        "    def __str__(self):\n",
        "        return str((self.__x,self.__y))\n",
        "    def __add__(self,other): \n",
        "        return Point(self.__x+other.__x,self.__y+other.__y)\n",
        "\n",
        "p1=Point(1,2)\n",
        "p2=Point(2,4)\n",
        "p3=p1+p2\n",
        "print(p3)"
      ]
    },
    {
      "cell_type": "markdown",
      "metadata": {
        "slideshow": {
          "slide_type": "slide"
        }
      },
      "source": [
        "### Special methods and operator overloading (2/2)\n",
        "Now, besides what we have done, we want to add ints to points, but:\n",
        "1. Point+int => should add the int to both x and y coordinates \n",
        "2. int+Point => should add the int only to the x coordinate"
      ]
    },
    {
      "cell_type": "code",
      "execution_count": null,
      "metadata": {
        "slideshow": {
          "slide_type": "slide"
        },
        "trusted": true
      },
      "outputs": [],
      "source": [
        "# \"Special  methods improved\"   --  ex06_21.py  \n",
        "class Point:\n",
        "    def __init__(self,x=0,y=0):\n",
        "        self.__x,self.__y=x,y\n",
        "    def __str__(self):\n",
        "        return str((self.__x,self.__y))\n",
        "    def __add__(self,other): \n",
        "        if isinstance(other,Point):\n",
        "            return Point(self.__x+other.__x,self.__y+other.__y)\n",
        "        if isinstance(other,int):\n",
        "            return Point(self.__x+other,self.__y+other)\n",
        "    def __radd__(self,other):\n",
        "        if isinstance(other,int):\n",
        "            return Point(self.__x+other,self.__y)\n",
        "\n",
        "p1=Point(1,2)\n",
        "p2=Point(2,4)\n",
        "p3=p1+p2\n",
        "print(p3)\n",
        "p4=p3+3 \n",
        "print(p4)\n",
        "p5=10+p4\n",
        "print(p5) "
      ]
    },
    {
      "cell_type": "markdown",
      "metadata": {
        "slideshow": {
          "slide_type": "slide"
        }
      },
      "source": [
        "### Small Pause\n",
        "```python \n",
        "*args \n",
        "**kwargs\n",
        "```\n",
        "\n",
        "-  Don’t panic! \n",
        "- There are no pointers in Python! \n",
        "- Just syntactic sugar for:\n",
        "\n",
        "     **\\*args** – all the normal function arguments \n",
        "     \n",
        "     __\\**kwargs__ – all the keyword=value arguments"
      ]
    },
    {
      "cell_type": "markdown",
      "metadata": {
        "slideshow": {
          "slide_type": "slide"
        }
      },
      "source": [
        "### Just one pattern: Decorator\n",
        "- Very used in Python \n",
        "- Small examples\n",
        "- A good example"
      ]
    },
    {
      "cell_type": "markdown",
      "metadata": {
        "slideshow": {
          "slide_type": "slide"
        }
      },
      "source": [
        "### Decorator: how it works\n",
        "-  We have an original function that we want to modify, without modifying the source code of that function\n",
        "- The decorator function:\n",
        "    1. Receives the original function\n",
        "    2. Creates a new function with the desired characteristics\n",
        "    3. Attributes the new function to the same identifier of the original function\n",
        "\n",
        "![decorator.png](images/decorator.png)"
      ]
    },
    {
      "cell_type": "markdown",
      "metadata": {
        "slideshow": {
          "slide_type": "slide"
        }
      },
      "source": [
        "### Decorator example: tracer\n",
        "\n",
        "- We want to count the number of times a function is called\n",
        "-  When the function is called we want:\n",
        "    1. To print the number of times the function has been called and it’s name\n",
        "    2. To print it’s arguments"
      ]
    },
    {
      "cell_type": "code",
      "execution_count": null,
      "metadata": {
        "slideshow": {
          "slide_type": "slide"
        },
        "trusted": true
      },
      "outputs": [],
      "source": [
        "# \"Decorator  \"   --  ex06_22.py  \n",
        "\n",
        "class tracer:\n",
        "    def __init__(self, func):\n",
        "        # On @ decoration: save original func and creates n_calls  \n",
        "        self.n_calls = 0\n",
        "        self.func = func\n",
        "    def __call__(self, *args,**kwargs):\n",
        "        # On later calls: run original func\n",
        "        self.n_calls += 1\n",
        "        print(\"Call {} to {}\".format(self.n_calls, self.func.__name__))\n",
        "        print(\"On tracer->\",*args,**kwargs)\n",
        "        self.func(*args,**kwargs)\n",
        "\n",
        "@tracer \n",
        "def my_func(i): \n",
        "    print(i) \n",
        "\n",
        "@tracer\n",
        "def my_func2(i): \n",
        "    print(i)\n",
        "\n",
        "my_func(\"a\")\n",
        "my_func(\"b\") \n",
        "my_func2(\"c\") \n",
        "my_func2(\"d\") "
      ]
    },
    {
      "cell_type": "markdown",
      "metadata": {
        "slideshow": {
          "slide_type": "slide"
        }
      },
      "source": [
        "### More decorators\n",
        "Taken from the The Python Decorator Library\n",
        "\n",
        "- An (horrible) HTML decorator:\n",
        "    - Helps writing an HTML document writing the top and bottom \n",
        "    - The horrible adjective is relative to the HTML quality\n",
        "\n",
        "- Memoization:\n",
        "     - When the execution of a function is time consuming\n",
        "     - And the results for one value will be needed later (and are still valid!)\n",
        "     - Caching the function execution in a dictionary will speed the program"
      ]
    },
    {
      "cell_type": "code",
      "execution_count": null,
      "metadata": {
        "slideshow": {
          "slide_type": "slide"
        },
        "trusted": true
      },
      "outputs": [],
      "source": [
        "# \"(horrible)  HTML  decorator\"   --  ex06_23.py  \n",
        "class HTMLmethod(object):\n",
        "    def __init__(self, title):\n",
        "        self.title = title\n",
        "    def __call__(self, fn):\n",
        "        def wrapped_fn(*args,**kwargs):\n",
        "            print(\"Content-Type: text/html\\n\\n<HTML>\")\n",
        "            print(\"<HEAD><TITLE>{}</TITLE></HEAD>\".format(self.title))\n",
        "            print(\"<BODY>\")\n",
        "            fn(*args,**kwargs)\n",
        "            print(\"\\n</BODY></HTML>\") \n",
        "        return wrapped_fn\n",
        "\n",
        "@HTMLmethod(\"Hello with Decorator\")\n",
        "def say_hello():\n",
        "    print('<h1>Hello from Python-Land</h1>')\n",
        "\n",
        "say_hello()"
      ]
    },
    {
      "cell_type": "code",
      "execution_count": null,
      "metadata": {
        "slideshow": {
          "slide_type": "slide"
        },
        "trusted": true
      },
      "outputs": [],
      "source": [
        "# \"memoize  decorator\"   --  ex06_24.py\n",
        "class memoize(dict):\n",
        "    def __init__(self, func):\n",
        "        self.func = func\n",
        "    def __call__(self, *args):\n",
        "        return self[args]\n",
        "    def __missing__(self, key):\n",
        "        result = self[key] = self.func(*key)\n",
        "        return result\n",
        "@memoize\n",
        "def fibonacci(n):\n",
        "   if n in (0, 1):\n",
        "      return n\n",
        "   return fibonacci(n-1) + fibonacci(n-2)\n",
        "print(fibonacci(12))\n",
        "print(fibonacci)\n"
      ]
    },
    {
      "cell_type": "code",
      "execution_count": null,
      "metadata": {
        "trusted": true
      },
      "outputs": [],
      "source": []
    }
  ],
  "metadata": {
    "celltoolbar": "Slideshow",
    "kernelspec": {
      "display_name": "Python 3",
      "language": "python",
      "name": "python3"
    },
    "language_info": {
      "codemirror_mode": {
        "name": "ipython",
        "version": 3
      },
      "file_extension": ".py",
      "mimetype": "text/x-python",
      "name": "python",
      "nbconvert_exporter": "python",
      "pygments_lexer": "ipython3",
      "version": "3.10.4 (main, Dec 12 2022, 23:13:54) [GCC 9.4.0]"
    },
    "vscode": {
      "interpreter": {
        "hash": "3ad933181bd8a04b432d3370b9dc3b0662ad032c4dfaa4e4f1596c548f763858"
      }
    }
  },
  "nbformat": 4,
  "nbformat_minor": 2
}
